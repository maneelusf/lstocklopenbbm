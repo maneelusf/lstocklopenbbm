{
 "cells": [
  {
   "cell_type": "code",
   "execution_count": 3,
   "id": "6b5081d1",
   "metadata": {},
   "outputs": [],
   "source": [
    "from llm import llm_analysis,StockLLM\n",
    "import yaml\n",
    "with open('./data/apis.yaml', 'r') as file:\n",
    "    yaml_data = yaml.load(file, Loader=yaml.FullLoader)\n",
    "open_ai_params = {'max_tokens':512,'openai_api_key' : yaml_data['LLMS']['OPENAI_API_KEY']}\n",
    "cohere_params = {'model':'command-xlarge-nightly','max_tokens':2202,\\\n",
    "                 'cohere_api_key' : yaml_data['LLMS']['COHERE_API_KEY'],'temperature':0,\\\n",
    "                'k': 0}\n",
    "ai21_params = {'model':\"j2-grande-instruct\",'numResults':1,'temperature':0,\\\n",
    " 'topP':1,'ai21_api_key':yaml_data['LLMS']['AI21_API_KEY'],\"maxTokens\":25}"
   ]
  },
  {
   "cell_type": "code",
   "execution_count": 4,
   "id": "a984bb0e",
   "metadata": {},
   "outputs": [
    {
     "name": "stdout",
     "output_type": "stream",
     "text": [
      "> \u001b[0;32m/Users/maneelreddy/Downloads/Entreprenuer/lstocklopenbbm/llm.py\u001b[0m(65)\u001b[0;36m__init__\u001b[0;34m()\u001b[0m\n",
      "\u001b[0;32m     63 \u001b[0;31m        \u001b[0;31m### Requires both Cohere and OpenAI APIs\u001b[0m\u001b[0;34m\u001b[0m\u001b[0;34m\u001b[0m\u001b[0m\n",
      "\u001b[0m\u001b[0;32m     64 \u001b[0;31m        \u001b[0;32mimport\u001b[0m \u001b[0mpdb\u001b[0m\u001b[0;34m;\u001b[0m\u001b[0mpdb\u001b[0m\u001b[0;34m.\u001b[0m\u001b[0mset_trace\u001b[0m\u001b[0;34m(\u001b[0m\u001b[0;34m)\u001b[0m\u001b[0;34m\u001b[0m\u001b[0;34m\u001b[0m\u001b[0m\n",
      "\u001b[0m\u001b[0;32m---> 65 \u001b[0;31m        \u001b[0mself\u001b[0m\u001b[0;34m.\u001b[0m\u001b[0mticker\u001b[0m \u001b[0;34m=\u001b[0m \u001b[0mticker\u001b[0m\u001b[0;34m\u001b[0m\u001b[0;34m\u001b[0m\u001b[0m\n",
      "\u001b[0m\u001b[0;32m     66 \u001b[0;31m        \u001b[0mself\u001b[0m\u001b[0;34m.\u001b[0m\u001b[0mopen_ai_params\u001b[0m \u001b[0;34m=\u001b[0m \u001b[0mopen_ai_params\u001b[0m\u001b[0;34m\u001b[0m\u001b[0;34m\u001b[0m\u001b[0m\n",
      "\u001b[0m\u001b[0;32m     67 \u001b[0;31m        \u001b[0mself\u001b[0m\u001b[0;34m.\u001b[0m\u001b[0mcohere_params\u001b[0m \u001b[0;34m=\u001b[0m \u001b[0mcohere_params\u001b[0m\u001b[0;34m\u001b[0m\u001b[0;34m\u001b[0m\u001b[0m\n",
      "\u001b[0m\n",
      "ipdb> c\n"
     ]
    }
   ],
   "source": [
    "### For user input anything is fine\n",
    "x = llm_analysis('AAPL',open_ai_params,cohere_params,ai21_params)"
   ]
  },
  {
   "cell_type": "code",
   "execution_count": 5,
   "id": "ed4c5964",
   "metadata": {},
   "outputs": [
    {
     "ename": "Exception",
     "evalue": "This file is unavailable",
     "output_type": "error",
     "traceback": [
      "\u001b[0;31m---------------------------------------------------------------------------\u001b[0m",
      "\u001b[0;31mFileNotFoundError\u001b[0m                         Traceback (most recent call last)",
      "File \u001b[0;32m~/Downloads/Entreprenuer/lstocklopenbbm/llm.py:50\u001b[0m, in \u001b[0;36mStockLLM.sec_analysis_agent\u001b[0;34m(self)\u001b[0m\n\u001b[1;32m     49\u001b[0m \u001b[38;5;28;01mtry\u001b[39;00m:\n\u001b[0;32m---> 50\u001b[0m     \u001b[38;5;28;01mwith\u001b[39;00m \u001b[38;5;28;43mopen\u001b[39;49m\u001b[43m(\u001b[49m\u001b[43mfile_path\u001b[49m\u001b[43m,\u001b[49m\u001b[43m \u001b[49m\u001b[38;5;124;43m\"\u001b[39;49m\u001b[38;5;124;43mr\u001b[39;49m\u001b[38;5;124;43m\"\u001b[39;49m\u001b[43m)\u001b[49m \u001b[38;5;28;01mas\u001b[39;00m f:\n\u001b[1;32m     51\u001b[0m         file \u001b[38;5;241m=\u001b[39m f\u001b[38;5;241m.\u001b[39mread()\n",
      "\u001b[0;31mFileNotFoundError\u001b[0m: [Errno 2] No such file or directory: './ticker/AAPL/fa/analysis_sec.txt'",
      "\nDuring handling of the above exception, another exception occurred:\n",
      "\u001b[0;31mException\u001b[0m                                 Traceback (most recent call last)",
      "Cell \u001b[0;32mIn [5], line 1\u001b[0m\n\u001b[0;32m----> 1\u001b[0m y \u001b[38;5;241m=\u001b[39m \u001b[43mx\u001b[49m\u001b[38;5;241;43m.\u001b[39;49m\u001b[43msec_chain_analysis\u001b[49m\u001b[43m(\u001b[49m\u001b[43m)\u001b[49m\n",
      "File \u001b[0;32m~/Downloads/Entreprenuer/lstocklopenbbm/llm.py:106\u001b[0m, in \u001b[0;36mllm_analysis.sec_chain_analysis\u001b[0;34m(self)\u001b[0m\n\u001b[1;32m     97\u001b[0m overall_chain \u001b[38;5;241m=\u001b[39m SequentialChain(\n\u001b[1;32m     98\u001b[0m     input_variables\u001b[38;5;241m=\u001b[39m[\u001b[38;5;124m\"\u001b[39m\u001b[38;5;124mstock\u001b[39m\u001b[38;5;124m\"\u001b[39m, \u001b[38;5;124m\"\u001b[39m\u001b[38;5;124msummary\u001b[39m\u001b[38;5;124m\"\u001b[39m],\n\u001b[1;32m     99\u001b[0m     chains\u001b[38;5;241m=\u001b[39m[sec_chain, pos_neg_chain],\n\u001b[0;32m   (...)\u001b[0m\n\u001b[1;32m    102\u001b[0m     verbose\u001b[38;5;241m=\u001b[39m\u001b[38;5;28;01mTrue\u001b[39;00m,\n\u001b[1;32m    103\u001b[0m )\n\u001b[1;32m    104\u001b[0m \u001b[38;5;28;01mwith\u001b[39;00m get_openai_callback() \u001b[38;5;28;01mas\u001b[39;00m cb:\n\u001b[1;32m    105\u001b[0m     statement \u001b[38;5;241m=\u001b[39m overall_chain(\n\u001b[0;32m--> 106\u001b[0m         {\u001b[38;5;124m\"\u001b[39m\u001b[38;5;124mstock\u001b[39m\u001b[38;5;124m\"\u001b[39m: \u001b[38;5;28mself\u001b[39m\u001b[38;5;241m.\u001b[39mticker, \u001b[38;5;124m\"\u001b[39m\u001b[38;5;124msummary\u001b[39m\u001b[38;5;124m\"\u001b[39m: \u001b[38;5;28;43mself\u001b[39;49m\u001b[38;5;241;43m.\u001b[39;49m\u001b[43mstockllm\u001b[49m\u001b[38;5;241;43m.\u001b[39;49m\u001b[43msec_analysis_agent\u001b[49m\u001b[43m(\u001b[49m\u001b[43m)\u001b[49m}\n\u001b[1;32m    107\u001b[0m     )\n\u001b[1;32m    108\u001b[0m     cb \u001b[38;5;241m=\u001b[39m {\n\u001b[1;32m    109\u001b[0m         \u001b[38;5;124m\"\u001b[39m\u001b[38;5;124mTotal Tokens\u001b[39m\u001b[38;5;124m\"\u001b[39m: cb\u001b[38;5;241m.\u001b[39mtotal_tokens,\n\u001b[1;32m    110\u001b[0m         \u001b[38;5;124m\"\u001b[39m\u001b[38;5;124mPrompt Tokens\u001b[39m\u001b[38;5;124m\"\u001b[39m: cb\u001b[38;5;241m.\u001b[39mprompt_tokens,\n\u001b[1;32m    111\u001b[0m         \u001b[38;5;124m\"\u001b[39m\u001b[38;5;124mCompletion Tokens\u001b[39m\u001b[38;5;124m\"\u001b[39m: cb\u001b[38;5;241m.\u001b[39mcompletion_tokens,\n\u001b[1;32m    112\u001b[0m         \u001b[38;5;124m\"\u001b[39m\u001b[38;5;124mTotal Cost (USD)\u001b[39m\u001b[38;5;124m\"\u001b[39m: cb\u001b[38;5;241m.\u001b[39mtotal_cost,\n\u001b[1;32m    113\u001b[0m     }\n\u001b[1;32m    114\u001b[0m     statement[\u001b[38;5;124m\"\u001b[39m\u001b[38;5;124mtoken_summary\u001b[39m\u001b[38;5;124m\"\u001b[39m] \u001b[38;5;241m=\u001b[39m cb\n",
      "File \u001b[0;32m~/Downloads/Entreprenuer/lstocklopenbbm/llm.py:53\u001b[0m, in \u001b[0;36mStockLLM.sec_analysis_agent\u001b[0;34m(self)\u001b[0m\n\u001b[1;32m     51\u001b[0m         file \u001b[38;5;241m=\u001b[39m f\u001b[38;5;241m.\u001b[39mread()\n\u001b[1;32m     52\u001b[0m \u001b[38;5;28;01mexcept\u001b[39;00m:\n\u001b[0;32m---> 53\u001b[0m     \u001b[38;5;28;01mraise\u001b[39;00m \u001b[38;5;167;01mException\u001b[39;00m(\u001b[38;5;124m\"\u001b[39m\u001b[38;5;124mThis file is unavailable\u001b[39m\u001b[38;5;124m\"\u001b[39m)\n\u001b[1;32m     54\u001b[0m \u001b[38;5;28;01mreturn\u001b[39;00m file\n",
      "\u001b[0;31mException\u001b[0m: This file is unavailable"
     ]
    }
   ],
   "source": [
    "y = x.sec_chain_analysis()"
   ]
  },
  {
   "cell_type": "code",
   "execution_count": 7,
   "id": "98aa39f0",
   "metadata": {},
   "outputs": [
    {
     "data": {
      "text/plain": [
       "['AAPL', 'TSLA', 'V', 'MSFT', 'AMZN', 'NVDA', 'META', 'GOOG', 'BRK-B', 'JNJ']"
      ]
     },
     "execution_count": 7,
     "metadata": {},
     "output_type": "execute_result"
    }
   ],
   "source": [
    "yaml_data['STOCKS']"
   ]
  }
 ],
 "metadata": {
  "kernelspec": {
   "display_name": "firstEnv",
   "language": "python",
   "name": "firstenv"
  },
  "language_info": {
   "codemirror_mode": {
    "name": "ipython",
    "version": 3
   },
   "file_extension": ".py",
   "mimetype": "text/x-python",
   "name": "python",
   "nbconvert_exporter": "python",
   "pygments_lexer": "ipython3",
   "version": "3.9.15"
  }
 },
 "nbformat": 4,
 "nbformat_minor": 5
}
