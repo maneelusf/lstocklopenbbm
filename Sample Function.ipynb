{
 "cells": [
  {
   "cell_type": "code",
   "execution_count": 6,
   "id": "533466f0",
   "metadata": {},
   "outputs": [],
   "source": [
    "from llm import llm_analysis,StockLLM\n",
    "import yaml"
   ]
  },
  {
   "cell_type": "code",
   "execution_count": 4,
   "id": "0b2c750b",
   "metadata": {},
   "outputs": [
    {
     "ename": "TypeError",
     "evalue": "__init__() missing 4 required positional arguments: 'ticker', 'open_ai_params', 'cohere_params', and 'ai21_params'",
     "output_type": "error",
     "traceback": [
      "\u001b[0;31m---------------------------------------------------------------------------\u001b[0m",
      "\u001b[0;31mTypeError\u001b[0m                                 Traceback (most recent call last)",
      "Cell \u001b[0;32mIn [4], line 1\u001b[0m\n\u001b[0;32m----> 1\u001b[0m x \u001b[38;5;241m=\u001b[39m \u001b[43mllm_analysis\u001b[49m\u001b[43m(\u001b[49m\u001b[43m)\u001b[49m\n",
      "\u001b[0;31mTypeError\u001b[0m: __init__() missing 4 required positional arguments: 'ticker', 'open_ai_params', 'cohere_params', and 'ai21_params'"
     ]
    }
   ],
   "source": [
    "x = llm_analysis()"
   ]
  },
  {
   "cell_type": "code",
   "execution_count": 7,
   "id": "edd20927",
   "metadata": {},
   "outputs": [],
   "source": [
    "with open('./data/apis.yaml', 'r') as file:\n",
    "    yaml_data = yaml.load(file, Loader=yaml.FullLoader)\n",
    "open_ai_params = {'max_tokens':512,'openai_api_key' : yaml_data['LLMS']['OPENAI_API_KEY']}\n",
    "cohere_params = {'model':'command-xlarge-nightly','max_tokens':2202,\\\n",
    "                 'cohere_api_key' : yaml_data['LLMS']['COHERE_API_KEY'],'temperature':0,\\\n",
    "                'k': 0}\n",
    "ai21_params = {'model':\"j2-grande-instruct\",'numResults':1,'temperature':0,\\\n",
    " 'topP':1,'ai21_api_key':yaml_data['LLMS']['AI21_API_KEY'],\"maxTokens\":25}"
   ]
  },
  {
   "cell_type": "code",
   "execution_count": 8,
   "id": "8ecb83b6",
   "metadata": {},
   "outputs": [],
   "source": [
    "x = llm_analysis('ANY',open_ai_params,cohere_params,ai21_params)"
   ]
  },
  {
   "cell_type": "code",
   "execution_count": null,
   "id": "b1c7ca2f",
   "metadata": {},
   "outputs": [],
   "source": [
    "x.input_from_user(self,query)"
   ]
  }
 ],
 "metadata": {
  "kernelspec": {
   "display_name": "firstEnv",
   "language": "python",
   "name": "firstenv"
  },
  "language_info": {
   "codemirror_mode": {
    "name": "ipython",
    "version": 3
   },
   "file_extension": ".py",
   "mimetype": "text/x-python",
   "name": "python",
   "nbconvert_exporter": "python",
   "pygments_lexer": "ipython3",
   "version": "3.9.15"
  }
 },
 "nbformat": 4,
 "nbformat_minor": 5
}
