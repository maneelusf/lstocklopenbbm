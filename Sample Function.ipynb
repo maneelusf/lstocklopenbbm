{
 "cells": [
  {
   "cell_type": "code",
   "execution_count": 1,
   "id": "6b5081d1",
   "metadata": {},
   "outputs": [
    {
     "name": "stderr",
     "output_type": "stream",
     "text": [
      "/opt/anaconda3/envs/ts/lib/python3.9/site-packages/fuzzywuzzy/fuzz.py:11: UserWarning: Using slow pure-python SequenceMatcher. Install python-Levenshtein to remove this warning\n",
      "  warnings.warn('Using slow pure-python SequenceMatcher. Install python-Levenshtein to remove this warning')\n"
     ]
    }
   ],
   "source": [
    "from llm import llm_analysis,StockLLM\n",
    "import yaml\n",
    "with open('./data/apis.yaml', 'r') as file:\n",
    "    yaml_data = yaml.load(file, Loader=yaml.FullLoader)\n",
    "open_ai_params = {'max_tokens':512,'openai_api_key' : yaml_data['LLMS']['OPENAI_API_KEY']}\n",
    "cohere_params = {'model':'command-xlarge-nightly','max_tokens':2202,\\\n",
    "                 'cohere_api_key' : yaml_data['LLMS']['COHERE_API_KEY'],'temperature':0,\\\n",
    "                'k': 0}\n",
    "ai21_params = {'model':\"j2-grande-instruct\",'numResults':1,'temperature':0,\\\n",
    " 'topP':1,'ai21_api_key':yaml_data['LLMS']['AI21_API_KEY'],\"maxTokens\":25}"
   ]
  },
  {
   "cell_type": "code",
   "execution_count": 3,
   "id": "a984bb0e",
   "metadata": {},
   "outputs": [
    {
     "name": "stdout",
     "output_type": "stream",
     "text": [
      "> \u001b[0;32m/Users/maneelreddy/Downloads/Entreprenuer/lstocklopenbbm/llm.py\u001b[0m(67)\u001b[0;36m__init__\u001b[0;34m()\u001b[0m\n",
      "\u001b[0;32m     65 \u001b[0;31m\u001b[0;34m\u001b[0m\u001b[0m\n",
      "\u001b[0m\u001b[0;32m     66 \u001b[0;31m        \u001b[0mpdb\u001b[0m\u001b[0;34m.\u001b[0m\u001b[0mset_trace\u001b[0m\u001b[0;34m(\u001b[0m\u001b[0;34m)\u001b[0m\u001b[0;34m\u001b[0m\u001b[0;34m\u001b[0m\u001b[0m\n",
      "\u001b[0m\u001b[0;32m---> 67 \u001b[0;31m        \u001b[0mself\u001b[0m\u001b[0;34m.\u001b[0m\u001b[0mticker\u001b[0m \u001b[0;34m=\u001b[0m \u001b[0mticker\u001b[0m\u001b[0;34m\u001b[0m\u001b[0;34m\u001b[0m\u001b[0m\n",
      "\u001b[0m\u001b[0;32m     68 \u001b[0;31m        \u001b[0mself\u001b[0m\u001b[0;34m.\u001b[0m\u001b[0mopen_ai_params\u001b[0m \u001b[0;34m=\u001b[0m \u001b[0mopen_ai_params\u001b[0m\u001b[0;34m\u001b[0m\u001b[0;34m\u001b[0m\u001b[0m\n",
      "\u001b[0m\u001b[0;32m     69 \u001b[0;31m        \u001b[0mself\u001b[0m\u001b[0;34m.\u001b[0m\u001b[0mcohere_params\u001b[0m \u001b[0;34m=\u001b[0m \u001b[0mcohere_params\u001b[0m\u001b[0;34m\u001b[0m\u001b[0;34m\u001b[0m\u001b[0m\n",
      "\u001b[0m\n",
      "ipdb> c\n"
     ]
    }
   ],
   "source": [
    "### For user input anything is fine\n",
    "x = llm_analysis('AAPL',open_ai_params,cohere_params,ai21_params)"
   ]
  },
  {
   "cell_type": "code",
   "execution_count": 4,
   "id": "ed4c5964",
   "metadata": {},
   "outputs": [
    {
     "name": "stdout",
     "output_type": "stream",
     "text": [
      "\n",
      "\n",
      "\u001b[1m> Entering new SequentialChain chain...\u001b[0m\n",
      "\n",
      "\u001b[1m> Finished chain.\u001b[0m\n"
     ]
    }
   ],
   "source": [
    "y = x.sec_chain_analysis()"
   ]
  },
  {
   "cell_type": "code",
   "execution_count": 7,
   "id": "98aa39f0",
   "metadata": {},
   "outputs": [
    {
     "data": {
      "text/plain": [
       "dict_keys(['stock', 'summary', 'sec_final_output', 'sec_summary', 'token_summary'])"
      ]
     },
     "execution_count": 7,
     "metadata": {},
     "output_type": "execute_result"
    }
   ],
   "source": [
    "y.keys()"
   ]
  },
  {
   "cell_type": "code",
   "execution_count": 8,
   "id": "8492e712",
   "metadata": {},
   "outputs": [
    {
     "data": {
      "text/plain": [
       "{'Total Tokens': 1144,\n",
       " 'Prompt Tokens': 632,\n",
       " 'Completion Tokens': 512,\n",
       " 'Total Cost (USD)': 0.02288}"
      ]
     },
     "execution_count": 8,
     "metadata": {},
     "output_type": "execute_result"
    }
   ],
   "source": [
    "y['token_summary']"
   ]
  }
 ],
 "metadata": {
  "kernelspec": {
   "display_name": "firstEnv",
   "language": "python",
   "name": "firstenv"
  },
  "language_info": {
   "codemirror_mode": {
    "name": "ipython",
    "version": 3
   },
   "file_extension": ".py",
   "mimetype": "text/x-python",
   "name": "python",
   "nbconvert_exporter": "python",
   "pygments_lexer": "ipython3",
   "version": "3.9.15"
  },
  "vscode": {
   "interpreter": {
    "hash": "40d3a090f54c6569ab1632332b64b2c03c39dcf918b08424e98f38b5ae0af88f"
   }
  }
 },
 "nbformat": 4,
 "nbformat_minor": 5
}
