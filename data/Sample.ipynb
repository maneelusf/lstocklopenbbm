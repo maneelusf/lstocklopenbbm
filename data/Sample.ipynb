{
 "cells": [
  {
   "cell_type": "code",
   "execution_count": 116,
   "id": "ce1e8113",
   "metadata": {},
   "outputs": [],
   "source": [
    "import yaml\n",
    "import pandas as pd\n",
    "from langchain.llms import Cohere, OpenAI, AI21\n",
    "from langchain.embeddings import CohereEmbeddings,OpenAIEmbeddings\n",
    "from langchain.vectorstores import FAISS,Pinecone\n",
    "from langchain.document_loaders.csv_loader import CSVLoader\n",
    "from langchain.document_loaders import DataFrameLoader\n",
    "from langchain.document_loaders.base import BaseLoader\n",
    "from langchain.document_loaders import DirectoryLoader\n",
    "from langchain.document_loaders import TextLoader\n",
    "from langchain.text_splitter import CharacterTextSplitter\n",
    "from langchain.chains import RetrievalQA\n",
    "from langchain.docstore.document import Document\n",
    "from langchain.prompts import PromptTemplate"
   ]
  },
  {
   "cell_type": "markdown",
   "id": "ab255400",
   "metadata": {},
   "source": [
    "#### MY OWN DATALOADER"
   ]
  },
  {
   "cell_type": "code",
   "execution_count": 117,
   "id": "55f5c84c",
   "metadata": {},
   "outputs": [],
   "source": [
    "class CSVLoader_v1(BaseLoader):\n",
    "    \"\"\"Loads a CSV file into a list of documents.\n",
    "    Each document represents one row of the CSV file. Every row is converted into a\n",
    "    key/value pair and outputted to a new line in the document's page_content.\n",
    "    The source for each document loaded from csv is set to the value of the\n",
    "    `file_path` argument for all doucments by default.\n",
    "    You can override this by setting the `source_column` argument to the\n",
    "    name of a column in the CSV file.\n",
    "    The source of each document will then be set to the value of the column\n",
    "    with the name specified in `source_column`.\n",
    "    Output Example:\n",
    "        .. code-block:: txt\n",
    "            column1: value1\n",
    "            column2: value2\n",
    "            column3: value3\n",
    "    \"\"\"\n",
    "\n",
    "    def __init__(\n",
    "        self,\n",
    "        file_path: str,\n",
    "        source_column= None,\n",
    "        encoding = None,\n",
    "    ):\n",
    "        self.file_path = file_path\n",
    "        self.source_column = source_column\n",
    "        self.encoding = encoding\n",
    "    def load(self):\n",
    "        \"\"\"Load data into document objects.\"\"\"\n",
    "\n",
    "        docs = []\n",
    "        with open(self.file_path,'r') as f:\n",
    "            #import pdb;pdb.set_trace()\n",
    "            ticker = self.file_path.split('/')[2]\n",
    "            meta_data = self.file_path.split('.')[-2].split('/')[-1]\n",
    "            dict1 = {'balance':'Balance Sheet','cash':'Cash Flow','income':'Income Statement',\\\n",
    "                    'ratios':'Key Financial Ratios','est':'Analyst Estimates','fraud':'Fraud Ratios',\n",
    "                    'c_news':'News','s_news':'Sentiment News'}\n",
    "            if meta_data in dict1.keys():\n",
    "                meta_data = dict1[meta_data]\n",
    "            metadata = {\"ticker\": ticker, \"metadata\": meta_data,\"file_path\": self.file_path}\n",
    "            file_content = f.read()\n",
    "        doc = Document(page_content=file_content, metadata=metadata)\n",
    "        return [doc]"
   ]
  },
  {
   "cell_type": "code",
   "execution_count": 118,
   "id": "9664685b",
   "metadata": {},
   "outputs": [],
   "source": [
    "class TextLoader_v1(BaseLoader):\n",
    "    def __init__(\n",
    "        self,\n",
    "        file_path: str,\n",
    "        source_column= None,\n",
    "        encoding = None,\n",
    "    ):\n",
    "        self.file_path = file_path\n",
    "        self.source_column = source_column\n",
    "        self.encoding = encoding\n",
    "    def load(self):\n",
    "        \"\"\"Load data into document objects.\"\"\"\n",
    "\n",
    "        docs = []\n",
    "        with open(self.file_path,'r') as f:\n",
    "            ticker = self.file_path.split('/')[2]\n",
    "            meta_data = self.file_path.split('.')[-2].split('/')[-1]\n",
    "            dict1 = {'analysis_sec':'SEC analysis summary'}\n",
    "            if meta_data in dict1.keys():\n",
    "                meta_data = dict1[meta_data]\n",
    "            metadata = {\"ticker\": ticker, \"metadata\": meta_data,\"file_path\": self.file_path}\n",
    "            file_content = f.read()\n",
    "        doc = Document(page_content=file_content, metadata=metadata)\n",
    "        return [doc]"
   ]
  },
  {
   "cell_type": "code",
   "execution_count": 106,
   "id": "d04cac98",
   "metadata": {},
   "outputs": [],
   "source": [
    "with open(\"apis.yaml\", \"r\") as file:\n",
    "    yaml_data = yaml.load(file, Loader=yaml.FullLoader)\n",
    "open_ai_params = {'max_tokens':1000,'openai_api_key' : yaml_data['LLMS']['OPENAI_API_KEY'],'temperature' :0,'model_name':'text-davinci-003'}\n",
    "cohere_params = {\n",
    "    \"model\": \"command-xlarge-nightly\",\n",
    "    \"max_tokens\": 2202,\n",
    "    \"cohere_api_key\": yaml_data[\"LLMS\"][\"COHERE_API_KEY\"],\n",
    "    \"temperature\": 0,\n",
    "    \"k\": 0,\n",
    "}\n",
    "ai21_params = {\n",
    "    \"model\": \"j2-jumbo-instruct\",\n",
    "    \"numResults\": 1,\n",
    "    \"temperature\": 0,\n",
    "    \"topP\": 1,\n",
    "    \"ai21_api_key\": yaml_data[\"LLMS\"][\"AI21_API_KEY\"],\n",
    "    \"maxTokens\": 25,\n",
    "}\n"
   ]
  },
  {
   "cell_type": "code",
   "execution_count": 7,
   "id": "00f1cdbf",
   "metadata": {},
   "outputs": [],
   "source": [
    "faiss_db = FAISS.load_local('entiredocument',oai)"
   ]
  },
  {
   "cell_type": "code",
   "execution_count": 102,
   "id": "417b3ed5",
   "metadata": {},
   "outputs": [
    {
     "data": {
      "text/plain": [
       "[Document(page_content=',ttm,2022-12-31,2021-12-31,2020-12-31,2019-12-31,ticker\\nNet income(figures in $M),12583.0,12583.0,5519.0,690.0,-862.0,TSLA\\nDepreciation & amortisation(figures in $M),3747.0,3747.0,2911.0,2322.0,2154.0,TSLA\\nStock-based compensation(figures in $M),1560.0,1560.0,2121.0,1734.0,898.0,TSLA\\nChange in working capital(figures in $M),-3908.0,-3908.0,518.0,184.0,-349.0,TSLA\\nAccounts receivable(figures in $M),-1124.0,-1124.0,-130.0,-652.0,-367.0,TSLA\\nInventory(figures in $M),-6465.0,-6465.0,-1709.0,-422.0,-429.0,TSLA\\nOther working capital(figures in $M),7552.0,7552.0,3483.0,2701.0,968.0,TSLA\\nOther non-cash items(figures in $M),340.0,340.0,245.0,408.0,477.0,TSLA\\nNet cash provided by operating activities(figures in $M),14724.0,14724.0,11497.0,5943.0,2405.0,TSLA\\n\"Investments in property, plant and equipment(figures in $M)\",-7172.0,-7172.0,-8014.0,-3242.0,-1437.0,TSLA\\n\"Acquisitions, net(figures in $M)\",0.0,0.0,0.0,-13.0,-45.0,TSLA\\nPurchases of investments(figures in $M),-5835.0,-5835.0,-132.0,0.0,0.0,TSLA\\nSales/maturities of investments(figures in $M),22.0,22.0,0.0,0.0,0.0,TSLA\\nOther investing activities(figures in $M),76.0,76.0,6.0,123.0,46.0,TSLA\\nNet cash used for investing activities(figures in $M),-11973.0,-11973.0,-7868.0,-3132.0,-1436.0,TSLA\\nDebt repayment(figures in $M),-3866.0,-3866.0,-14615.0,-12201.0,-389.0,TSLA\\nCommon stock issued(figures in $M),0.0,0.0,0.0,12269.0,848.0,TSLA\\nOther financing activities(figures in $M),-202.0,-202.0,-178.0,-225.0,222.0,TSLA\\nNet cash used provided by (used for) financing activities(figures in $M),-3527.0,-3527.0,-5203.0,9973.0,1529.0,TSLA\\nNet change in cash(figures in $M),-1220.0,-1220.0,-1757.0,13118.0,2506.0,TSLA\\nCash at beginning of period(figures in $M),18144.0,18144.0,19901.0,6783.0,4277.0,TSLA\\nCash at end of period(figures in $M),16924.0,16924.0,18144.0,19901.0,6783.0,TSLA\\nOperating cash flow(figures in $M),14724.0,14724.0,11497.0,5943.0,2405.0,TSLA\\nCapital expenditure(figures in $M),-7172.0,-7172.0,-8014.0,-3242.0,-1437.0,TSLA\\nFree cash flow(figures in $M),7552.0,7552.0,3483.0,2701.0,968.0,TSLA', metadata={'ticker': 'TSLA', 'metadata': 'Cash Flow', 'file_path': '../ticker/TSLA/fa/cash.csv'}),\n",
       " Document(page_content=',ticker,2022-12-31,2021-12-31,2020-12-31,2019-12-31\\nCash and cash equivalents(figures in $M),TSLA,22185.0,17576.0,19384.0,6268.0\\nOther short-term investments(figures in $M),TSLA,5932.0,131.0,0.0,0.0\\nTotal cash(figures in $M),TSLA,22185.0,17707.0,19384.0,6268.0\\nNet receivables(figures in $M),TSLA,2952.0,1913.0,1886.0,1324.0\\nInventory(figures in $M),TSLA,12839.0,5757.0,4101.0,3552.0\\nOther current assets(figures in $M),TSLA,2941.0,0.0,0.0,0.0\\nTotal current assets(figures in $M),TSLA,40917.0,27100.0,26717.0,12103.0\\n\"Gross property, plant and equipment(figures in $M)\",TSLA,36635.0,31176.0,23375.0,20199.0\\nAccumulated depreciation(figures in $M),TSLA,-10459.0,-7918.0,-6072.0,-11726.0\\n\"Net property, plant and equipment(figures in $M)\",TSLA,36635.0,31176.0,23375.0,20199.0\\nGoodwill(figures in $M),TSLA,194.0,200.0,207.0,198.0\\nIntangible assets(figures in $M),TSLA,593.0,1717.0,313.0,339.0\\nOther long-term assets(figures in $M),TSLA,4193.0,2138.0,1536.0,1077.0\\nTotal non-current assets(figures in $M),TSLA,41421.0,35031.0,25431.0,22206.0\\nTotal assets(figures in $M),TSLA,82338.0,62131.0,52148.0,34309.0\\nCurrent debt(figures in $M),TSLA,1502.0,1589.0,2132.0,1785.0\\nAccounts payable(figures in $M),TSLA,15255.0,10025.0,6051.0,3771.0\\nAccrued liabilities(figures in $M),TSLA,7142.0,5719.0,3855.0,2905.0\\nDeferred revenues(figures in $M),TSLA,2810.0,2372.0,2210.0,1889.0\\nOther current liabilities(figures in $M),TSLA,354.0,294.0,241.0,317.0\\nTotal current liabilities(figures in $M),TSLA,26709.0,19705.0,14248.0,10667.0\\nLong-term debt(figures in $M),TSLA,1597.0,5245.0,9607.0,11634.0\\nDeferred tax liabilities(figures in $M),TSLA,82.0,24.0,151.0,0.0\\nDeferred revenues(figures in $M),TSLA,2804.0,2052.0,1284.0,1207.0\\nOther long-term liabilities(figures in $M),TSLA,5330.0,3546.0,3330.0,2691.0\\nTotal non-current liabilities(figures in $M),TSLA,9731.0,10843.0,14221.0,15532.0\\nTotal liabilities(figures in $M),TSLA,36440.0,30548.0,28469.0,26199.0\\nCommon stock(figures in $M),TSLA,3.0,1.0,1.0,0.0\\nRetained earnings(figures in $M),TSLA,12885.0,331.0,-5399.0,-6083.0\\nAccumulated other comprehensive income(figures in $M),TSLA,-361.0,54.0,363.0,-36.0\\nTotal stockholders\\' equity(figures in $M),TSLA,44704.0,30189.0,22225.0,6618.0\\nTotal liabilities and stockholders\\' equity(figures in $M),TSLA,82338.0,62131.0,52148.0,34309.0', metadata={'ticker': 'TSLA', 'metadata': 'Balance Sheet', 'file_path': '../ticker/TSLA/fa/balance.csv'})]"
      ]
     },
     "execution_count": 102,
     "metadata": {},
     "output_type": "execute_result"
    }
   ],
   "source": [
    "query = \"How is Tesla's cash flow?\"\n",
    "faiss_db.as_retriever(search_kwargs={\"k\": 2}).get_relevant_documents(query)"
   ]
  },
  {
   "cell_type": "code",
   "execution_count": 88,
   "id": "de41b544",
   "metadata": {},
   "outputs": [],
   "source": [
    "def qachain(vectorstore,query):\n",
    "    documents = vectorstore.as_retriever(search_kwargs={\"k\": 2}).get_relevant_documents(query)\n",
    "\n",
    "    context_full_doc = []\n",
    "    file_names = []\n",
    "    for doc in documents:\n",
    "        page_content = doc.page_content\n",
    "        meta_data = doc.metadata['metadata']\n",
    "        ticker = doc.metadata['ticker']\n",
    "        context_precursor = '''The below contains information about {} and the information is {}'''.format(ticker,meta_data)\n",
    "        context_full= '''{}\n",
    "        {}'''.format(context_precursor,page_content)\n",
    "        context_full_doc.append(context_full)\n",
    "        file_names.append(doc.metadata['file_path'])\n",
    "    context_full_doc.append(query)\n",
    "    context_full_doc = '\\n'.join(context_full_doc)\n",
    "    return context_full_doc,file_names\n"
   ]
  },
  {
   "cell_type": "code",
   "execution_count": 190,
   "id": "78e79f2c",
   "metadata": {},
   "outputs": [
    {
     "data": {
      "text/plain": [
       "[Document(page_content=',ticker,headline,datetime,sentiment_bucket,sentiment_score\\n0,AAPL,\"Apple Earnings May Fall 10% As iPad, Mac Sales Drag\",2023-05-02 11:20:17,Negative,0.38\\n1,AAPL,\"GM Ditches Apple CarPlay In 2024 Chevy Blazer, Latest Salvo In Auto Dashboard Wars\",2023-05-02 09:34:18,Negative,0.28\\n2,AAPL,Apple fights $2 billion London lawsuit for \\'throttling\\' millions of iPhones,2023-05-02 08:34:56,Negative,0.28\\n3,AAPL,\"Apple Card savings account has an attractive 4.15% interest rate, but be aware of these pitfalls before signing up\",2023-05-02 07:25:00,Negative,0.27\\n4,AAPL,Apple fights $2 bln London lawsuit for \\'throttling\\' millions of iPhones,2023-05-02 05:54:58,Negative,0.34\\n5,AAPL,Masimo Falls after Mistrial Verdict in AAPL Case,2023-05-02 01:02:00,Negative,0.23\\n6,AAPL,Masimo down 5% after judge declares mistrial in fight with Apple,2023-05-02 00:22:00,Negative,0.21\\n7,AAPL,US judge declares mistrial in Apple-Masimo smartwatch trade secrets fight,2023-05-01 16:37:55,Negative,0.31\\n8,AAPL,Apple iPhone Sales May Miss Wall Street Estimates. Here’s Why.,2023-05-01 10:14:00,Negative,0.32\\n9,AAPL,Apple Earnings To Define Mixed Q1 Season As Stocks Test 2023 Highs,2023-05-01 09:26:00,Negative,0.38\\n10,AAPL,Apple Partnership was “Kiss of Death” Smaller Rivals Claim,2023-05-01 05:52:00,Negative,0.38\\n11,AAPL,Don\\'t Guess in Any Big Way at What Apple or the Fed May Say,2023-05-01 04:49:00,Negative,0.33\\n12,AAPL,\"Analysts Conflicted on These Technology Names: Apple (AAPL), Astra Space (ASTR) and Honeywell International (HON)\",2023-04-30 22:11:00,Negative,0.26\\n13,AAPL,Apple: Negative Services Growth On The Horizon,2023-04-30 05:22:00,Negative,0.21\\n14,AAPL,\"Giant Fund Sells Apple, Tesla, Intel, and Nvidia Stock\",2023-04-30 05:00:00,Negative,0.28\\n15,AAPL,Apple Is Offering A Rich Valuation And Slow Growth: Look Elsewhere,2023-04-29 05:33:00,Negative,0.33\\n16,AAPL,Apple employee who defrauded company of millions sentenced to three years in prison,2023-04-28 04:05:45,Negative,0.22\\n17,AAPL,Apple Pay Later won\\'t affect us for years: Klarna CEO,2023-04-27 14:56:01,Negative,0.39\\n18,AAPL,Analysts Estimate Apple (AAPL) to Report a Decline in Earnings: What to Look Out for,2023-04-27 07:02:02,Negative,0.29\\n19,AAPL,Apple\\'s Q2 Preview: Why It May Be Painful,2023-04-27 05:26:44,Negative,0.33\\n20,AAPL,Apple`s Q2 Preview: Why It May Be Painful,2023-04-27 04:31:00,Negative,0.34\\n21,AAPL,\"Samsung, Apple lead another weak smartphone quarter\",2023-04-27 03:00:00,Negative,0.28\\n22,AAPL,\"Apple, Google partner to combat creepy tracking tactics\",2023-05-02 10:26:52,Positive,0.66\\n23,AAPL,\"Q1 Earnings Season Scorecard and Featured Research on Apple, Microsoft & Meta Platforms\",2023-05-02 09:53:04,Positive,0.69\\n24,AAPL,\"Apple Inc. stock falls Tuesday, still outperforms market\",2023-05-02 09:31:00,Positive,0.7\\n25,AAPL,\"UPDATE 1-Google, Apple working together to fight unwanted tracking \",2023-05-02 09:13:53,Positive,0.79\\n26,AAPL,\"Apple, Google Partner to Address AirTag Safety Concerns\",2023-05-02 08:46:00,Positive,0.75\\n27,AAPL,Apple Is About to Increase Its Dividend: What You Need to Know,2023-05-02 08:41:00,Positive,0.6\\n28,AAPL,\"Google, Apple working together to fight unwanted tracking\",2023-05-02 06:14:49,Positive,0.61\\n29,AAPL,\"Google, Apple submit proposal to fight misuse of Bluetooth location-tracking devices \",2023-05-02 06:12:21,Positive,0.65\\n30,AAPL,Why Apple’s bid to control your car is striking fear into manufacturers,2023-05-02 04:00:00,Positive,0.78\\n31,AAPL,\"2 Good Reasons to Buy Apple Stock, and 1 Major Risk to Consider\",2023-05-02 03:11:00,Positive,0.6\\n32,AAPL,\"Apple, Google join forces on AirTag tracking security\",2023-05-02 02:50:00,Positive,0.74\\n33,AAPL,\"The Zacks Analyst Blog Highlights Apple, FedEx, Marathon Petroleum and Stellantis\",2023-05-02 02:49:09,Positive,0.77\\n34,AAPL,\"Apple, Google lead initiative for specification to address unwanted tracking\",2023-05-02 02:33:00,Positive,0.6\\n35,AAPL,Apple and Google team up to stop unwanted AirTag tracking,2023-05-02 02:00:01,Positive,0.74\\n36,AAPL,Apple price target raised to $180 from $170 at Baird,2023-05-01 22:39:00,Positive,0.75\\n37,AAPL,Apple (AAPL): New Buy Recommendation for This Technology Giant,2023-05-01 20:26:00,Positive,0.74\\n38,AAPL,UPDATE 2-US judge declares mistrial in Apple-Masimo smartwatch trade secrets fight,2023-05-01 16:18:37,Positive,0.73\\n39,AAPL,\"Apple Earnings Are Next. Back the Stock for This Reason, Analyst Says.\",2023-05-01 05:20:00,Positive,0.6\\n40,AAPL,Wedbush: Apple to Meet or Exceed iPhone Revenue Predictions,2023-05-01 04:20:00,Positive,0.64\\n41,AAPL,\"Amazon, Alphabet, Apple, Meta and Microsoft are part of Zacks Earnings Preview\",2023-05-01 01:50:08,Positive,0.6\\n42,AAPL,\"Apple likely to post `in-line` iPhone revenue, seeing uptick in China: Wedbush\",2023-04-30 23:25:00,Positive,0.62\\n43,AAPL,Apple price target raised to $173 from $168 at BofA,2023-04-30 23:12:00,Positive,0.65\\n44,AAPL,\"What\\'s worth streaming in May 2023, as HBO Max reboots, Netflix rolls out big names and Apple takes a big swing\",2023-04-30 07:50:00,Positive,0.75\\n45,AAPL,Amazon made earnings look better — can Apple continue the momentum?,2023-04-30 06:33:00,Positive,0.78\\n46,AAPL,Amazon made earnings look better ��� can Apple continue the momentum?,2023-04-30 05:35:00,Positive,0.76\\n47,AAPL,\"Weekly Preview: Earnings to Watch This Week 4-30-23 (AMD, AAPL, MRNA, SQ)\",2023-04-30 00:24:00,Positive,0.74\\n48,AAPL,\"What`s worth streaming in May 2023, as HBO Max reboots, Netflix rolls out big names and Apple takes a big swing\",2023-04-29 18:51:00,Positive,0.7\\n49,AAPL,Apple Rising As Investors Bet On A Sunny March-Quarter Report,2023-04-28 13:10:19,Positive,0.74\\n50,AAPL,\"Apple Inc. stock rises Friday, outperforms market\",2023-04-28 09:31:00,Positive,0.72\\n51,AAPL,\"Earnings Week Ahead: Apple, Ford, Starbucks, Anheuser Busch, and more\",2023-04-28 05:33:00,Positive,0.73\\n52,AAPL,Apple and Microsoft Have Never Held\\xa0More Sway Over the S&P 500,2023-04-28 03:01:56,Positive,0.71\\n53,AAPL,Apple\\'s Magnificent Growth in This Market Could Be a Game Changer in the Long Run,2023-04-28 03:01:00,Positive,0.63\\n54,AAPL,D.A. Davidson Keeps Their Buy Rating on Apple (AAPL),2023-04-28 00:36:00,Positive,0.69\\n55,AAPL,\"Apple Inc. stock rises Thursday, outperforms market\",2023-04-27 10:35:00,Positive,0.74\\n56,AAPL,\"SCHG: Heavier Exposure To Earnings Power Of Apple, Microsoft, And Google\",2023-04-27 10:16:51,Positive,0.65\\n57,AAPL,Apple exec hails importance of having apps ‘built by everyone’ on App Store,2023-04-27 08:42:28,Positive,0.63\\n58,AAPL,\"Apple discloses European MAUs for products, services as it complies with DSA\",2023-04-27 02:43:00,Positive,0.78\\n59,AAPL,Apple and Oppo Battle for Top Spot in China Phone Market,2023-04-26 23:24:53,Positive,0.73\\n60,AAPL,Baird Maintains Apple (AAPL) Outperform Recommendation,2023-05-02 09:08:01,Neutral,0.5\\n61,AAPL,Apple Earnings: What to Watch,2023-05-02 05:31:00,Neutral,0.5\\n62,AAPL,Apple said to cut drivers in California autonomous vehicle testing program,2023-05-02 05:16:00,Neutral,0.5\\n63,AAPL,\"Apple and 10 other stocks tied to China supply chains are at risk, but 7 others may benefit, says Morgan Stanley\",2023-05-02 03:18:00,Neutral,0.5\\n64,AAPL,India\\'s first iPhone maker is quitting amid Apple\\'s growing presence in the country,2023-05-02 01:40:00,Neutral,0.5\\n65,AAPL,Nasdaq 100 forecast: Where next for Apple stock ahead of Q2 earnings?,2023-05-02 00:51:00,Neutral,0.5\\n66,AAPL,\"Hung jury likely in Masimo, Apple trade case, says Piper Sandle\",2023-05-01 23:33:00,Neutral,0.5\\n67,AAPL,More than 90% of Apple`s production is still in China. Why Morgan Stanley says that`s a problem.,2023-05-01 23:06:00,Neutral,0.5\\n68,AAPL,Apple-Masimo Trade Secrets Fight Ends With No Jury Verdict,2023-05-01 16:56:12,Neutral,0.5\\n69,AAPL,Big Tech Earnings: Time to Take Another Bite of Apple?,2023-05-01 15:14:10,Neutral,0.5\\n70,AAPL,B of A Securities Maintains Apple (AAPL) Neutral Recommendation,2023-05-01 11:07:13,Neutral,0.5\\n71,AAPL,15 Most Profitable Industries In America In 2023,2023-05-01 09:43:22,Neutral,0.5\\n72,AAPL,Apple Inc. stock outperforms market despite losses on the day,2023-05-01 09:31:00,Neutral,0.5\\n73,AAPL,Apple (AAPL) to Report Q2 Earnings: What\\'s in the Offing?,2023-05-01 09:18:04,Neutral,0.5\\n74,AAPL,How to Play Apple Ahead of Its Important Earnings Report,2023-05-01 07:15:00,Neutral,0.5\\n75,AAPL,Market Faces Its Most Significant News of 2023: Fed Policy and Apple Earnings,2023-05-01 04:49:00,Neutral,0.5\\n76,AAPL,All Eyes on Apple Stock Ahead of Earnings,2023-05-01 04:04:00,Neutral,0.5\\n77,AAPL,\"Analysts` Opinions Are Mixed on These Technology Stocks: Apple (AAPL), Teradyne (TER) and Mobileye Global, Inc. Class A (MBLY)\",2023-04-30 23:51:00,Neutral,0.5\\n78,AAPL,\"Apple should post at least in-line iPhone revenues, says Wedbush\",2023-04-30 23:42:00,Neutral,0.5\\n79,AAPL,\"Nasdaq, S&P 500, Dow edge lower as investors look ahead to Fed, Apple earnings\",2023-04-30 20:05:00,Neutral,0.5\\n80,AAPL,\"Fed decision, Apple earnings, April jobs report: What to know this week\",2023-04-30 07:46:01,Neutral,0.5\\n81,AAPL,Apple in India: How the iPhone maker is scaling the world\\'s second-largest smartphone market,2023-04-30 07:20:32,Neutral,0.5\\n82,AAPL,Where Will Apple Stock Be in 3 Years?,2023-04-30 03:18:00,Neutral,0.5\\n83,AAPL,\"Starbucks, Ford, Apple Lead Another Busy Earnings Week\",2023-04-30 02:30:00,Neutral,0.5\\n84,AAPL,iPhone Sales Are Key for Apple. India Could Move the Needle.,2023-04-30 00:30:00,Neutral,0.5\\n85,AAPL,\"A \"\"Cornerstone\"\" For Value Investors\",2023-04-29 04:40:00,Neutral,0.5\\n86,AAPL,\"Catalyst Watch: FOMC Meeting, Apple Earnings Preview (Podcast)\",2023-04-29 00:00:00,Neutral,0.5\\n87,AAPL,\"Stock Charts Strategy, May 1-5: Fed Policy, April Payrolls, Apple Earnings\",2023-04-28 10:12:49,Neutral,0.5\\n88,AAPL,\"AAPL Stock Ramps Higher Ahead Of Quarterly Results. Wall Street Eyes Reports From DraftKings, Arista Networks\",2023-04-28 08:38:49,Neutral,0.5\\n89,AAPL,\"iPhone 15 to add mysterious new button on the side, Apple rumours suggest\",2023-04-28 08:15:25,Neutral,0.5\\n90,AAPL,Here is What to Know Beyond Why Apple Inc. (AAPL) is a Trending Stock,2023-04-28 06:00:01,Neutral,0.5\\n91,AAPL,\"Catalyst watch: FOMC, Apple earnings, Kenvue IPO and jobs report are on tap\",2023-04-27 19:06:00,Neutral,0.5\\n92,AAPL,\"Apple Stock Is a Winner, but How Much Higher Can It Go?\",2023-04-27 18:30:00,Neutral,0.5\\n93,AAPL,These 3 Companies Are Too Dependent On Apple,2023-04-29 04:10:00,Strongly Negative,0.11', metadata={'ticker': 'AAPL', 'metadata': 'news_sentiment', 'file_path': '../ticker/AAPL/output/news_sentiment.csv'}),\n",
       " Document(page_content=',ticker,2023,2024,2025,2026,2027\\nRevenue(In $M),AAPL,\"388,282\",\"415,829\",\"439,693\",\"479,623\",\"531,898\"\\nDividend,AAPL,0.97,1.03,0.98,1.02,1.05\\nDividend Yield (in %),AAPL,0.64 %,0.67 %,0.64 %,0.67 %,0.69 %\\nEPS,AAPL,5.95,6.60,7.23,6.96,7.72\\nP/E Ratio,AAPL,27.89,25.14,22.93,23.83,21.49\\nEBIT(In $M),AAPL,\"113,106\",\"121,889\",\"129,859\",\"156,291\",\"172,741\"\\nEBITDA(In $M),AAPL,\"124,823\",\"133,792\",\"140,840\",\"148,216\",\"163,935\"\\nNet Profit(In $M),AAPL,\"93,941\",\"101,134\",\"107,862\",\"112,618\",\"125,426\"\\nNet Profit Adjusted(In $M),AAPL,\"95,241\",\"101,897\",\"108,379\",\"121,634\",\"134,713\"\\nPre-Tax Profit(In $M),AAPL,\"112,278\",\"121,231\",\"130,745\",\"145,670\",\"161,333\"\\nNet Profit (Adjusted)(In $M),AAPL,\"112,786\",\"122,624\",\"130,644\",\"146,138\",\"159,625\"\\nEPS (Non-GAAP) ex. SOE(In $),AAPL,5.97,6.58,7.07,7.92,8.72\\nEPS (GAAP)(In $),AAPL,5.95,6.60,7.23,6.96,7.72\\nGross Income(In $M),AAPL,\"168,307\",\"181,012\",\"191,968\",\"213,389\",\"233,308\"\\nCash Flow from Investing(In $M),AAPL,\"-6,681\",\"-6,916\",\"-6,884\",\"-12,128\",\"-12,249\"\\nCash Flow from Operations(In $M),AAPL,\"108,945\",\"125,224\",\"134,287\",\"140,163\",\"154,161\"\\nCash Flow from Financing(In $M),AAPL,\"-100,513\",\"-94,344\",\"-81,909\",\"-16,446\",\"-17,008\"\\nCash Flow per Share(In $),AAPL,6.85,8.07,8.93,-,-\\nFree Cash Flow(In $M),AAPL,\"94,221\",\"108,381\",\"112,174\",\"128,035\",\"141,912\"\\nFree Cash Flow per Share(In $),AAPL,5.97,7.04,7.54,7.92,8.74\\nBook Value per Share(In $),AAPL,3.78,5.06,6.83,-,-\\nNet Debt(In $M),AAPL,\"-62,243\",\"-29,407\",\"-71,599\",\"-406,547\",\"-531,451\"\\nResearch & Development Exp.(In $M),AAPL,\"30,196\",\"32,057\",\"32,621\",\"35,987\",\"38,330\"\\nCapital Expenditure(In $M),AAPL,\"12,143\",\"12,628\",\"13,498\",\"12,128\",\"12,249\"\\n\"Selling, General & Admin. Exp.(In $M)\",AAPL,\"26,090\",\"28,013\",\"29,099\",\"31,037\",\"32,949\"\\nShareholder’s Equity(In $M),AAPL,\"59,065\",\"74,310\",\"117,464\",\"396,043\",\"515,583\"\\nTotal Assets(In $M),AAPL,\"345,125\",\"372,581\",\"442,607\",\"740,348\",\"880,501\"', metadata={'ticker': 'AAPL', 'metadata': 'Analyst Estimates', 'file_path': '../ticker/AAPL/fa/est.csv'})]"
      ]
     },
     "execution_count": 190,
     "metadata": {},
     "output_type": "execute_result"
    }
   ],
   "source": [
    "faiss_db.as_retriever(search_kwargs={\"k\": 2,'filter':{'ticker':'AAPL'}}).get_relevant_documents(query)"
   ]
  },
  {
   "cell_type": "code",
   "execution_count": 191,
   "id": "f73043a0",
   "metadata": {},
   "outputs": [
    {
     "data": {
      "text/plain": [
       "'What do you know about AAPL?'"
      ]
     },
     "execution_count": 191,
     "metadata": {},
     "output_type": "execute_result"
    }
   ],
   "source": [
    "query"
   ]
  },
  {
   "cell_type": "code",
   "execution_count": 103,
   "id": "26e40496",
   "metadata": {},
   "outputs": [],
   "source": [
    "prompt_type,file_names = qachain(faiss_db,\"How is Tesla's cash flow?\")"
   ]
  },
  {
   "cell_type": "code",
   "execution_count": 65,
   "id": "9b1317c5",
   "metadata": {},
   "outputs": [],
   "source": [
    "def process_file_names(file_names):\n",
    "    csv_filter = [file_name for file_name in file_names if '.csv' in file_name]\n",
    "    df = pd.read_csv(csv_filter[0])\n",
    "    df.rename(columns = {'Unnamed: 0':'Description'},inplace = True)\n",
    "    return df"
   ]
  },
  {
   "cell_type": "code",
   "execution_count": 108,
   "id": "13488822",
   "metadata": {},
   "outputs": [],
   "source": [
    "llm = Cohere(**cohere_params)\n",
    "llm = OpenAI(**open_ai_params)\n",
    "#llm = AI21(**ai21_params)"
   ]
  },
  {
   "cell_type": "markdown",
   "id": "523d34e7",
   "metadata": {},
   "source": [
    "#### PineCone sampling"
   ]
  },
  {
   "cell_type": "code",
   "execution_count": 112,
   "id": "261570fc",
   "metadata": {},
   "outputs": [],
   "source": [
    "pinecone_key = '76b7e747-3862-4faa-9326-8d4c99ac36e9'\n",
    "pinecone_env = 'us-west1-gcp-free'"
   ]
  },
  {
   "cell_type": "code",
   "execution_count": 114,
   "id": "2016d75b",
   "metadata": {},
   "outputs": [],
   "source": [
    "import pinecone \n",
    "\n",
    "# initialize pinecone\n",
    "pinecone.init(\n",
    "    api_key=pinecone_key,  # find at app.pinecone.io\n",
    "    environment=pinecone_env  # next to api key in console\n",
    ")"
   ]
  },
  {
   "cell_type": "code",
   "execution_count": 122,
   "id": "11b59d35",
   "metadata": {},
   "outputs": [],
   "source": [
    "index_name = \"financial-analysis\""
   ]
  },
  {
   "cell_type": "code",
   "execution_count": null,
   "id": "fad22d4c",
   "metadata": {},
   "outputs": [],
   "source": []
  },
  {
   "cell_type": "code",
   "execution_count": 161,
   "id": "301474ce",
   "metadata": {},
   "outputs": [],
   "source": [
    "csv_loader = DirectoryLoader('../ticker', glob=\"**/*.csv\", loader_cls=CSVLoader)\n",
    "text_loader = DirectoryLoader('../ticker', glob=\"**/*.txt\", loader_cls=TextLoader)\n",
    "co = CohereEmbeddings(cohere_api_key=cohere_params[\"cohere_api_key\"])\n",
    "oai = OpenAIEmbeddings(openai_api_key = yaml_data[\"LLMS\"]['OPENAI_API_KEY'])\n",
    "final_docs = []\n",
    "for loader in [csv_loader,text_loader]:\n",
    "    docs = loader.load()\n",
    "    final_docs.extend(docs)\n",
    "text_splitter = CharacterTextSplitter(chunk_size=1000, chunk_overlap=200)\n",
    "documents = text_splitter.split_documents(final_docs)"
   ]
  },
  {
   "cell_type": "code",
   "execution_count": 187,
   "id": "b6c636fb",
   "metadata": {},
   "outputs": [],
   "source": [
    "documents[0].metadata = {'ticker':'CTAS','news':'Sentiment News'}"
   ]
  },
  {
   "cell_type": "code",
   "execution_count": 178,
   "id": "b0049401",
   "metadata": {},
   "outputs": [],
   "source": [
    "faiss_db = FAISS.load_local(folder_path = '../data/entiredocument',embeddings = oai)"
   ]
  },
  {
   "cell_type": "code",
   "execution_count": 167,
   "id": "ff122f1e",
   "metadata": {},
   "outputs": [],
   "source": [
    "from langchain.vectorstores import FAISS"
   ]
  },
  {
   "cell_type": "code",
   "execution_count": 169,
   "id": "a3935b37",
   "metadata": {},
   "outputs": [],
   "source": [
    "docsearch = Pinecone.from_documents(documents, oai, index_name=index_name)"
   ]
  },
  {
   "cell_type": "code",
   "execution_count": 174,
   "id": "a606d061",
   "metadata": {},
   "outputs": [
    {
     "ename": "TypeError",
     "evalue": "object of type 'Pinecone' has no len()",
     "output_type": "error",
     "traceback": [
      "\u001b[0;31m---------------------------------------------------------------------------\u001b[0m",
      "\u001b[0;31mTypeError\u001b[0m                                 Traceback (most recent call last)",
      "Cell \u001b[0;32mIn [174], line 1\u001b[0m\n\u001b[0;32m----> 1\u001b[0m \u001b[38;5;28;43mlen\u001b[39;49m\u001b[43m(\u001b[49m\u001b[43mdocsearch\u001b[49m\u001b[43m)\u001b[49m\n",
      "\u001b[0;31mTypeError\u001b[0m: object of type 'Pinecone' has no len()"
     ]
    }
   ],
   "source": [
    "len(docsearch)"
   ]
  },
  {
   "cell_type": "code",
   "execution_count": 175,
   "id": "6b6a8fd9",
   "metadata": {},
   "outputs": [],
   "source": [
    "\n",
    "query = \"What do you know about AAPL?\"\n",
    "docs = docsearch.similarity_search(query)"
   ]
  },
  {
   "cell_type": "code",
   "execution_count": 176,
   "id": "a9b324eb",
   "metadata": {},
   "outputs": [
    {
     "data": {
      "text/plain": [
       "[Document(page_content=': 2023-05-04 14:21:38\\nticker: AAPL\\nsentiment: 0.765', metadata={'row': 99.0, 'source': '../ticker/AAPL/news/s_news.csv'}),\n",
       " Document(page_content=': 90\\nticker: AAPL\\nheadline: Here is What to Know Beyond Why Apple Inc. (AAPL) is a Trending Stock\\ndatetime: 2023-04-28 06:00:01\\nsentiment_bucket: Neutral\\nsentiment_score: 0.5', metadata={'row': 90.0, 'source': '../ticker/AAPL/output/news_sentiment.csv'}),\n",
       " Document(page_content=': 2023-05-04 15:14:10\\nticker: AAPL\\nsentiment: 0.2263', metadata={'row': 102.0, 'source': '../ticker/AAPL/news/s_news.csv'}),\n",
       " Document(page_content=': 2023-05-04 13:41:26\\nticker: AAPL\\nsentiment: 0.1139', metadata={'row': 97.0, 'source': '../ticker/AAPL/news/s_news.csv'})]"
      ]
     },
     "execution_count": 176,
     "metadata": {},
     "output_type": "execute_result"
    }
   ],
   "source": [
    "docs"
   ]
  },
  {
   "cell_type": "code",
   "execution_count": 131,
   "id": "1af5e4c0",
   "metadata": {},
   "outputs": [],
   "source": [
    "docs = Pinecone.from_existing_index(index_name=index_name, embedding=oai)"
   ]
  },
  {
   "cell_type": "code",
   "execution_count": 196,
   "id": "a72ea460",
   "metadata": {},
   "outputs": [],
   "source": [
    "import requests\n",
    "ticker = 'AAPL'\n",
    "headers = {'User-agent': 'Mozilla/5.0'}\n",
    "site = \"https://finance.yahoo.com/quote/\" + ticker + \"?p=\" + ticker\n",
    "tables = pd.read_html(requests.get(site, headers=headers).text)"
   ]
  },
  {
   "cell_type": "code",
   "execution_count": 202,
   "id": "c3c6bfa8",
   "metadata": {},
   "outputs": [
    {
     "name": "stderr",
     "output_type": "stream",
     "text": [
      "/var/folders/43/fjcrjx8d7y51hzt_tn2d9z_40000gn/T/ipykernel_18803/3309460228.py:5: FutureWarning: The frame.append method is deprecated and will be removed from pandas in a future version. Use pandas.concat instead.\n",
      "  data = tables[0].append(tables[1])\n"
     ]
    },
    {
     "ename": "NameError",
     "evalue": "name 'get_live_price' is not defined",
     "output_type": "error",
     "traceback": [
      "\u001b[0;31m---------------------------------------------------------------------------\u001b[0m",
      "\u001b[0;31mNameError\u001b[0m                                 Traceback (most recent call last)",
      "Cell \u001b[0;32mIn [202], line 9\u001b[0m\n\u001b[1;32m      5\u001b[0m data \u001b[38;5;241m=\u001b[39m tables[\u001b[38;5;241m0\u001b[39m]\u001b[38;5;241m.\u001b[39mappend(tables[\u001b[38;5;241m1\u001b[39m])\n\u001b[1;32m      7\u001b[0m data\u001b[38;5;241m.\u001b[39mcolumns \u001b[38;5;241m=\u001b[39m [\u001b[38;5;124m\"\u001b[39m\u001b[38;5;124mattribute\u001b[39m\u001b[38;5;124m\"\u001b[39m , \u001b[38;5;124m\"\u001b[39m\u001b[38;5;124mvalue\u001b[39m\u001b[38;5;124m\"\u001b[39m]\n\u001b[0;32m----> 9\u001b[0m quote_price \u001b[38;5;241m=\u001b[39m pd\u001b[38;5;241m.\u001b[39mDataFrame([\u001b[38;5;124m\"\u001b[39m\u001b[38;5;124mQuote Price\u001b[39m\u001b[38;5;124m\"\u001b[39m, \u001b[43mget_live_price\u001b[49m(ticker)])\u001b[38;5;241m.\u001b[39mtranspose()\n\u001b[1;32m     10\u001b[0m quote_price\u001b[38;5;241m.\u001b[39mcolumns \u001b[38;5;241m=\u001b[39m data\u001b[38;5;241m.\u001b[39mcolumns\u001b[38;5;241m.\u001b[39mcopy()\n\u001b[1;32m     12\u001b[0m data \u001b[38;5;241m=\u001b[39m data\u001b[38;5;241m.\u001b[39mappend(quote_price)\n",
      "\u001b[0;31mNameError\u001b[0m: name 'get_live_price' is not defined"
     ]
    }
   ],
   "source": [
    "site = \"https://finance.yahoo.com/quote/\" + ticker + \"?p=\" + ticker\n",
    "    \n",
    "tables = pd.read_html(requests.get(site, headers=headers).text)\n",
    "\n",
    "data = tables[0].append(tables[1])\n",
    "\n",
    "data.columns = [\"attribute\" , \"value\"]\n",
    "\n",
    "quote_price = pd.DataFrame([\"Quote Price\", get_live_price(ticker)]).transpose()\n",
    "quote_price.columns = data.columns.copy()\n",
    "\n",
    "data = data.append(quote_price)\n",
    "\n",
    "data = data.sort_values(\"attribute\")\n",
    "\n",
    "data = data.drop_duplicates().reset_index(drop = True)\n",
    "\n",
    "data[\"value\"] = data.value.map(force_float)\n",
    "\n",
    "if dict_result:\n",
    "\n",
    "    result = {key : val for key,val in zip(data.attribute , data.value)}\n",
    " "
   ]
  },
  {
   "cell_type": "code",
   "execution_count": 199,
   "id": "9fb09e94",
   "metadata": {},
   "outputs": [
    {
     "data": {
      "text/html": [
       "<div>\n",
       "<style scoped>\n",
       "    .dataframe tbody tr th:only-of-type {\n",
       "        vertical-align: middle;\n",
       "    }\n",
       "\n",
       "    .dataframe tbody tr th {\n",
       "        vertical-align: top;\n",
       "    }\n",
       "\n",
       "    .dataframe thead th {\n",
       "        text-align: right;\n",
       "    }\n",
       "</style>\n",
       "<table border=\"1\" class=\"dataframe\">\n",
       "  <thead>\n",
       "    <tr style=\"text-align: right;\">\n",
       "      <th></th>\n",
       "      <th>0</th>\n",
       "      <th>1</th>\n",
       "    </tr>\n",
       "  </thead>\n",
       "  <tbody>\n",
       "    <tr>\n",
       "      <th>0</th>\n",
       "      <td>Market Cap</td>\n",
       "      <td>2.746T</td>\n",
       "    </tr>\n",
       "    <tr>\n",
       "      <th>1</th>\n",
       "      <td>Beta (5Y Monthly)</td>\n",
       "      <td>NaN</td>\n",
       "    </tr>\n",
       "    <tr>\n",
       "      <th>2</th>\n",
       "      <td>PE Ratio (TTM)</td>\n",
       "      <td>29.42</td>\n",
       "    </tr>\n",
       "    <tr>\n",
       "      <th>3</th>\n",
       "      <td>EPS (TTM)</td>\n",
       "      <td>5.90</td>\n",
       "    </tr>\n",
       "    <tr>\n",
       "      <th>4</th>\n",
       "      <td>Earnings Date</td>\n",
       "      <td>Jul 26, 2023 - Jul 31, 2023</td>\n",
       "    </tr>\n",
       "    <tr>\n",
       "      <th>5</th>\n",
       "      <td>Forward Dividend &amp; Yield</td>\n",
       "      <td>0.96 (0.55%)</td>\n",
       "    </tr>\n",
       "    <tr>\n",
       "      <th>6</th>\n",
       "      <td>Ex-Dividend Date</td>\n",
       "      <td>May 12, 2023</td>\n",
       "    </tr>\n",
       "    <tr>\n",
       "      <th>7</th>\n",
       "      <td>1y Target Est</td>\n",
       "      <td>171.29</td>\n",
       "    </tr>\n",
       "  </tbody>\n",
       "</table>\n",
       "</div>"
      ],
      "text/plain": [
       "                          0                            1\n",
       "0                Market Cap                       2.746T\n",
       "1         Beta (5Y Monthly)                          NaN\n",
       "2            PE Ratio (TTM)                        29.42\n",
       "3                 EPS (TTM)                         5.90\n",
       "4             Earnings Date  Jul 26, 2023 - Jul 31, 2023\n",
       "5  Forward Dividend & Yield                 0.96 (0.55%)\n",
       "6          Ex-Dividend Date                 May 12, 2023\n",
       "7             1y Target Est                       171.29"
      ]
     },
     "execution_count": 199,
     "metadata": {},
     "output_type": "execute_result"
    }
   ],
   "source": [
    "tables[1]"
   ]
  },
  {
   "cell_type": "code",
   "execution_count": null,
   "id": "6815055a",
   "metadata": {},
   "outputs": [],
   "source": []
  }
 ],
 "metadata": {
  "kernelspec": {
   "display_name": "firstEnv",
   "language": "python",
   "name": "firstenv"
  },
  "language_info": {
   "codemirror_mode": {
    "name": "ipython",
    "version": 3
   },
   "file_extension": ".py",
   "mimetype": "text/x-python",
   "name": "python",
   "nbconvert_exporter": "python",
   "pygments_lexer": "ipython3",
   "version": "3.9.15"
  }
 },
 "nbformat": 4,
 "nbformat_minor": 5
}
