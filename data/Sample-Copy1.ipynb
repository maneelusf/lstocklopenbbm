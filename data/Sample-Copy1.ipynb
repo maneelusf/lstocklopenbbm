{
 "cells": [
  {
   "cell_type": "code",
   "execution_count": 3,
   "id": "ce1e8113",
   "metadata": {},
   "outputs": [],
   "source": [
    "import yaml\n",
    "import pandas as pd\n",
    "from langchain.llms import Cohere, OpenAI, AI21\n",
    "from langchain.embeddings import CohereEmbeddings,OpenAIEmbeddings\n",
    "from langchain.vectorstores import FAISS,Pinecone\n",
    "from langchain.document_loaders.csv_loader import CSVLoader\n",
    "from langchain.document_loaders import DataFrameLoader\n",
    "from langchain.document_loaders.base import BaseLoader\n",
    "from langchain.document_loaders import DirectoryLoader\n",
    "from langchain.document_loaders import TextLoader\n",
    "from langchain.text_splitter import CharacterTextSplitter\n",
    "from langchain.chains import RetrievalQA\n",
    "from langchain.docstore.document import Document\n",
    "from langchain.prompts import PromptTemplate"
   ]
  },
  {
   "cell_type": "markdown",
   "id": "ab255400",
   "metadata": {},
   "source": [
    "#### MY OWN DATALOADER"
   ]
  },
  {
   "cell_type": "code",
   "execution_count": 117,
   "id": "55f5c84c",
   "metadata": {},
   "outputs": [],
   "source": [
    "class CSVLoader_v1(BaseLoader):\n",
    "    \"\"\"Loads a CSV file into a list of documents.\n",
    "    Each document represents one row of the CSV file. Every row is converted into a\n",
    "    key/value pair and outputted to a new line in the document's page_content.\n",
    "    The source for each document loaded from csv is set to the value of the\n",
    "    `file_path` argument for all doucments by default.\n",
    "    You can override this by setting the `source_column` argument to the\n",
    "    name of a column in the CSV file.\n",
    "    The source of each document will then be set to the value of the column\n",
    "    with the name specified in `source_column`.\n",
    "    Output Example:\n",
    "        .. code-block:: txt\n",
    "            column1: value1\n",
    "            column2: value2\n",
    "            column3: value3\n",
    "    \"\"\"\n",
    "\n",
    "    def __init__(\n",
    "        self,\n",
    "        file_path: str,\n",
    "        source_column= None,\n",
    "        encoding = None,\n",
    "    ):\n",
    "        self.file_path = file_path\n",
    "        self.source_column = source_column\n",
    "        self.encoding = encoding\n",
    "    def load(self):\n",
    "        \"\"\"Load data into document objects.\"\"\"\n",
    "\n",
    "        docs = []\n",
    "        with open(self.file_path,'r') as f:\n",
    "            #import pdb;pdb.set_trace()\n",
    "            ticker = self.file_path.split('/')[2]\n",
    "            meta_data = self.file_path.split('.')[-2].split('/')[-1]\n",
    "            dict1 = {'balance':'Balance Sheet','cash':'Cash Flow','income':'Income Statement',\\\n",
    "                    'ratios':'Key Financial Ratios','est':'Analyst Estimates','fraud':'Fraud Ratios',\n",
    "                    'c_news':'News','s_news':'Sentiment News'}\n",
    "            if meta_data in dict1.keys():\n",
    "                meta_data = dict1[meta_data]\n",
    "            metadata = {\"ticker\": ticker, \"metadata\": meta_data,\"file_path\": self.file_path}\n",
    "            file_content = f.read()\n",
    "        doc = Document(page_content=file_content, metadata=metadata)\n",
    "        return [doc]"
   ]
  },
  {
   "cell_type": "code",
   "execution_count": 118,
   "id": "9664685b",
   "metadata": {},
   "outputs": [],
   "source": [
    "class TextLoader_v1(BaseLoader):\n",
    "    def __init__(\n",
    "        self,\n",
    "        file_path: str,\n",
    "        source_column= None,\n",
    "        encoding = None,\n",
    "    ):\n",
    "        self.file_path = file_path\n",
    "        self.source_column = source_column\n",
    "        self.encoding = encoding\n",
    "    def load(self):\n",
    "        \"\"\"Load data into document objects.\"\"\"\n",
    "\n",
    "        docs = []\n",
    "        with open(self.file_path,'r') as f:\n",
    "            ticker = self.file_path.split('/')[2]\n",
    "            meta_data = self.file_path.split('.')[-2].split('/')[-1]\n",
    "            dict1 = {'analysis_sec':'SEC analysis summary'}\n",
    "            if meta_data in dict1.keys():\n",
    "                meta_data = dict1[meta_data]\n",
    "            metadata = {\"ticker\": ticker, \"metadata\": meta_data,\"file_path\": self.file_path}\n",
    "            file_content = f.read()\n",
    "        doc = Document(page_content=file_content, metadata=metadata)\n",
    "        return [doc]"
   ]
  },
  {
   "cell_type": "code",
   "execution_count": 5,
   "id": "d04cac98",
   "metadata": {},
   "outputs": [],
   "source": [
    "with open(\"apis.yaml\", \"r\") as file:\n",
    "    yaml_data = yaml.load(file, Loader=yaml.FullLoader)\n",
    "open_ai_params = {'max_tokens':1000,'openai_api_key' : yaml_data['LLMS']['OPENAI_API_KEY'],'temperature' :0,'model_name':'text-davinci-003'}\n",
    "cohere_params = {\n",
    "    \"model\": \"command-xlarge-nightly\",\n",
    "    \"max_tokens\": 2202,\n",
    "    \"cohere_api_key\": yaml_data[\"LLMS\"][\"COHERE_API_KEY\"],\n",
    "    \"temperature\": 0,\n",
    "    \"k\": 0,\n",
    "}\n",
    "ai21_params = {\n",
    "    \"model\": \"j2-jumbo-instruct\",\n",
    "    \"numResults\": 1,\n",
    "    \"temperature\": 0,\n",
    "    \"topP\": 1,\n",
    "    \"ai21_api_key\": yaml_data[\"LLMS\"][\"AI21_API_KEY\"],\n",
    "    \"maxTokens\": 25,\n",
    "}\n"
   ]
  },
  {
   "cell_type": "code",
   "execution_count": 7,
   "id": "00f1cdbf",
   "metadata": {},
   "outputs": [],
   "source": [
    "faiss_db = FAISS.load_local('entiredocument',oai)"
   ]
  },
  {
   "cell_type": "code",
   "execution_count": 102,
   "id": "417b3ed5",
   "metadata": {},
   "outputs": [
    {
     "data": {
      "text/plain": [
       "[Document(page_content=',ttm,2022-12-31,2021-12-31,2020-12-31,2019-12-31,ticker\\nNet income(figures in $M),12583.0,12583.0,5519.0,690.0,-862.0,TSLA\\nDepreciation & amortisation(figures in $M),3747.0,3747.0,2911.0,2322.0,2154.0,TSLA\\nStock-based compensation(figures in $M),1560.0,1560.0,2121.0,1734.0,898.0,TSLA\\nChange in working capital(figures in $M),-3908.0,-3908.0,518.0,184.0,-349.0,TSLA\\nAccounts receivable(figures in $M),-1124.0,-1124.0,-130.0,-652.0,-367.0,TSLA\\nInventory(figures in $M),-6465.0,-6465.0,-1709.0,-422.0,-429.0,TSLA\\nOther working capital(figures in $M),7552.0,7552.0,3483.0,2701.0,968.0,TSLA\\nOther non-cash items(figures in $M),340.0,340.0,245.0,408.0,477.0,TSLA\\nNet cash provided by operating activities(figures in $M),14724.0,14724.0,11497.0,5943.0,2405.0,TSLA\\n\"Investments in property, plant and equipment(figures in $M)\",-7172.0,-7172.0,-8014.0,-3242.0,-1437.0,TSLA\\n\"Acquisitions, net(figures in $M)\",0.0,0.0,0.0,-13.0,-45.0,TSLA\\nPurchases of investments(figures in $M),-5835.0,-5835.0,-132.0,0.0,0.0,TSLA\\nSales/maturities of investments(figures in $M),22.0,22.0,0.0,0.0,0.0,TSLA\\nOther investing activities(figures in $M),76.0,76.0,6.0,123.0,46.0,TSLA\\nNet cash used for investing activities(figures in $M),-11973.0,-11973.0,-7868.0,-3132.0,-1436.0,TSLA\\nDebt repayment(figures in $M),-3866.0,-3866.0,-14615.0,-12201.0,-389.0,TSLA\\nCommon stock issued(figures in $M),0.0,0.0,0.0,12269.0,848.0,TSLA\\nOther financing activities(figures in $M),-202.0,-202.0,-178.0,-225.0,222.0,TSLA\\nNet cash used provided by (used for) financing activities(figures in $M),-3527.0,-3527.0,-5203.0,9973.0,1529.0,TSLA\\nNet change in cash(figures in $M),-1220.0,-1220.0,-1757.0,13118.0,2506.0,TSLA\\nCash at beginning of period(figures in $M),18144.0,18144.0,19901.0,6783.0,4277.0,TSLA\\nCash at end of period(figures in $M),16924.0,16924.0,18144.0,19901.0,6783.0,TSLA\\nOperating cash flow(figures in $M),14724.0,14724.0,11497.0,5943.0,2405.0,TSLA\\nCapital expenditure(figures in $M),-7172.0,-7172.0,-8014.0,-3242.0,-1437.0,TSLA\\nFree cash flow(figures in $M),7552.0,7552.0,3483.0,2701.0,968.0,TSLA', metadata={'ticker': 'TSLA', 'metadata': 'Cash Flow', 'file_path': '../ticker/TSLA/fa/cash.csv'}),\n",
       " Document(page_content=',ticker,2022-12-31,2021-12-31,2020-12-31,2019-12-31\\nCash and cash equivalents(figures in $M),TSLA,22185.0,17576.0,19384.0,6268.0\\nOther short-term investments(figures in $M),TSLA,5932.0,131.0,0.0,0.0\\nTotal cash(figures in $M),TSLA,22185.0,17707.0,19384.0,6268.0\\nNet receivables(figures in $M),TSLA,2952.0,1913.0,1886.0,1324.0\\nInventory(figures in $M),TSLA,12839.0,5757.0,4101.0,3552.0\\nOther current assets(figures in $M),TSLA,2941.0,0.0,0.0,0.0\\nTotal current assets(figures in $M),TSLA,40917.0,27100.0,26717.0,12103.0\\n\"Gross property, plant and equipment(figures in $M)\",TSLA,36635.0,31176.0,23375.0,20199.0\\nAccumulated depreciation(figures in $M),TSLA,-10459.0,-7918.0,-6072.0,-11726.0\\n\"Net property, plant and equipment(figures in $M)\",TSLA,36635.0,31176.0,23375.0,20199.0\\nGoodwill(figures in $M),TSLA,194.0,200.0,207.0,198.0\\nIntangible assets(figures in $M),TSLA,593.0,1717.0,313.0,339.0\\nOther long-term assets(figures in $M),TSLA,4193.0,2138.0,1536.0,1077.0\\nTotal non-current assets(figures in $M),TSLA,41421.0,35031.0,25431.0,22206.0\\nTotal assets(figures in $M),TSLA,82338.0,62131.0,52148.0,34309.0\\nCurrent debt(figures in $M),TSLA,1502.0,1589.0,2132.0,1785.0\\nAccounts payable(figures in $M),TSLA,15255.0,10025.0,6051.0,3771.0\\nAccrued liabilities(figures in $M),TSLA,7142.0,5719.0,3855.0,2905.0\\nDeferred revenues(figures in $M),TSLA,2810.0,2372.0,2210.0,1889.0\\nOther current liabilities(figures in $M),TSLA,354.0,294.0,241.0,317.0\\nTotal current liabilities(figures in $M),TSLA,26709.0,19705.0,14248.0,10667.0\\nLong-term debt(figures in $M),TSLA,1597.0,5245.0,9607.0,11634.0\\nDeferred tax liabilities(figures in $M),TSLA,82.0,24.0,151.0,0.0\\nDeferred revenues(figures in $M),TSLA,2804.0,2052.0,1284.0,1207.0\\nOther long-term liabilities(figures in $M),TSLA,5330.0,3546.0,3330.0,2691.0\\nTotal non-current liabilities(figures in $M),TSLA,9731.0,10843.0,14221.0,15532.0\\nTotal liabilities(figures in $M),TSLA,36440.0,30548.0,28469.0,26199.0\\nCommon stock(figures in $M),TSLA,3.0,1.0,1.0,0.0\\nRetained earnings(figures in $M),TSLA,12885.0,331.0,-5399.0,-6083.0\\nAccumulated other comprehensive income(figures in $M),TSLA,-361.0,54.0,363.0,-36.0\\nTotal stockholders\\' equity(figures in $M),TSLA,44704.0,30189.0,22225.0,6618.0\\nTotal liabilities and stockholders\\' equity(figures in $M),TSLA,82338.0,62131.0,52148.0,34309.0', metadata={'ticker': 'TSLA', 'metadata': 'Balance Sheet', 'file_path': '../ticker/TSLA/fa/balance.csv'})]"
      ]
     },
     "execution_count": 102,
     "metadata": {},
     "output_type": "execute_result"
    }
   ],
   "source": [
    "query = \"How is Tesla's cash flow?\"\n",
    "faiss_db.as_retriever(search_kwargs={\"k\": 2}).get_relevant_documents(query)"
   ]
  },
  {
   "cell_type": "code",
   "execution_count": 88,
   "id": "de41b544",
   "metadata": {},
   "outputs": [],
   "source": [
    "def qachain(vectorstore,query):\n",
    "    documents = vectorstore.as_retriever(search_kwargs={\"k\": 2}).get_relevant_documents(query)\n",
    "\n",
    "    context_full_doc = []\n",
    "    file_names = []\n",
    "    for doc in documents:\n",
    "        page_content = doc.page_content\n",
    "        meta_data = doc.metadata['metadata']\n",
    "        ticker = doc.metadata['ticker']\n",
    "        context_precursor = '''The below contains information about {} and the information is {}'''.format(ticker,meta_data)\n",
    "        context_full= '''{}\n",
    "        {}'''.format(context_precursor,page_content)\n",
    "        context_full_doc.append(context_full)\n",
    "        file_names.append(doc.metadata['file_path'])\n",
    "    context_full_doc.append(query)\n",
    "    context_full_doc = '\\n'.join(context_full_doc)\n",
    "    return context_full_doc,file_names\n"
   ]
  },
  {
   "cell_type": "code",
   "execution_count": 92,
   "id": "78e79f2c",
   "metadata": {},
   "outputs": [
    {
     "data": {
      "text/plain": [
       "[Document(page_content='Our cash flows provided by operating activities during the three months ended March 2023 and 2022 were $2.51 billion and $4.00 billion, respectively, representing a decrease of $1.48 billion.There have been no material changes to our critical accounting policies and estimates since our Annual Report on Form 10-K for the year ended December 31, 2022.Gross margin for total automotive decreased from 32.9% to 21.1% in the three months ended March 31, 2023 as compared to the three months ended March 31, 2022.Gross margin for total automotive & services and other segment decreased from 30.5% to 19.9% in the three months ended March 31, 2023 as compared to the three months ended March 31, 2022, primarily due to the automotive gross margin decrease discussed above, partially offset by an improvement in our services and other gross margin.R & D expenses as a percentage of revenue decreased from 5% to 3% in the three months ended March 31, 2023 as compared to the three months ended March 31, 2022.Our effective tax rate decreased from 10% to 9% in the three months ended March 31, 2023 as compared to the three months ended March 31, 2022, primarily due to changes in mix of jurisdictional earnings.See Note 1, Summary of Significant Accounting Policies, to the consolidated financial statements included elsewhere in this Quarterly Report on Form 10-Q for further details.See Note 7, Debt, to the consolidated financial statements included elsewhere in this Quarterly Report on Form 10-Q for further details regarding our debt obligations.We recognized $288 million in revenue in the first quarter of 2022 primarily due to changes in regulation which entitled us to additional consideration for credits sold previously, in the absence of which we had an increase in automotive regulatory credits revenue year over year.The change is primarily due to an increase in used vehicle cost of revenue driven by increases in volume offset by a decrease in costs of used Tesla and non-Tesla vehicle sales, an increase in non-warranty maintenance service cost of revenue, and an increase in costs of paid Supercharging, insurance services and retail merchandise.Energy Generation and Storage Segment Cost of energy generation and storage revenue increased $673 million, or 98%, in the three months ended March 31, 2023 as compared to the three months ended March 31, 2022, primarily due to increase in deployments of Megapack, increase in solar cash and loan deployments at a higher average cost due to increased component costs, as well as increase in deployments of Powerwall.', metadata={'ticker': 'TSLA', 'metadata': 'SEC analysis summary', 'file_path': '../ticker/TSLA/fa/analysis_sec.txt'}),\n",
       " Document(page_content=',ticker,2023,2024,2025,2026,2027\\nRevenue(In $M),TSLA,\"99,810\",\"128,821\",\"160,557\",\"171,605\",\"186,979\"\\nDividend,TSLA,0.00,0.00,0.00,-,-\\nDividend Yield (in %),TSLA,-,-,-,-,-\\nEPS,TSLA,3.43,4.90,6.30,6.01,6.95\\nP/E Ratio,TSLA,48.11,33.69,26.20,27.48,23.74\\nEBIT(In $M),TSLA,\"12,159\",\"19,208\",\"24,951\",\"24,471\",\"30,501\"\\nEBITDA(In $M),TSLA,\"17,279\",\"24,761\",\"34,881\",\"36,623\",\"38,349\"\\nNet Profit(In $M),TSLA,\"11,772\",\"17,542\",\"22,479\",\"21,911\",\"26,110\"\\nNet Profit Adjusted(In $M),TSLA,\"11,754\",\"17,487\",\"22,420\",\"20,895\",\"26,110\"\\nPre-Tax Profit(In $M),TSLA,\"12,719\",\"19,576\",\"26,375\",\"27,209\",\"31,116\"\\nNet Profit (Adjusted)(In $M),TSLA,\"12,334\",\"19,485\",\"26,766\",\"27,209\",\"31,116\"\\nEPS (Non-GAAP) ex. SOE(In $),TSLA,3.43,4.90,6.30,6.01,6.95\\nEPS (GAAP)(In $),TSLA,3.08,4.76,5.92,5.99,6.86\\nGross Income(In $M),TSLA,\"19,996\",\"29,165\",\"37,662\",\"37,249\",\"41,903\"\\nCash Flow from Investing(In $M),TSLA,\"-8,262\",\"-10,207\",\"-11,480\",\"-14,003\",\"-18,704\"\\nCash Flow from Operations(In $M),TSLA,\"17,325\",\"22,203\",\"26,377\",\"28,921\",\"36,552\"\\nCash Flow from Financing(In $M),TSLA,-132,-361,527,-,-\\nCash Flow per Share(In $),TSLA,-,-,-,10.02,-\\nFree Cash Flow(In $M),TSLA,\"7,091\",\"11,937\",\"14,098\",\"17,552\",\"22,872\"\\nFree Cash Flow per Share(In $),TSLA,1.53,3.45,4.14,5.20,-\\nBook Value per Share(In $),TSLA,16.87,21.56,27.07,27.90,30.90\\nNet Debt(In $M),TSLA,\"-22,392\",\"-31,710\",\"-45,174\",\"-51,971\",\"-24,282\"\\nResearch & Development Exp.(In $M),TSLA,\"3,357\",\"4,057\",\"4,719\",\"4,904\",\"5,097\"\\nCapital Expenditure(In $M),TSLA,\"7,996\",\"9,039\",\"10,080\",\"10,843\",\"11,852\"\\n\"Selling, General & Admin. Exp.(In $M)\",TSLA,\"4,621\",\"5,483\",\"6,330\",\"6,169\",\"6,321\"\\nShareholder’s Equity(In $M),TSLA,\"55,956\",\"72,645\",\"93,756\",\"93,519\",\"91,725\"\\nTotal Assets(In $M),TSLA,\"97,702\",\"121,645\",\"147,958\",\"148,398\",-', metadata={'ticker': 'TSLA', 'metadata': 'Analyst Estimates', 'file_path': '../ticker/TSLA/fa/est.csv'})]"
      ]
     },
     "execution_count": 92,
     "metadata": {},
     "output_type": "execute_result"
    }
   ],
   "source": [
    "faiss_db.as_retriever(search_kwargs={\"k\": 2}).get_relevant_documents(query)"
   ]
  },
  {
   "cell_type": "code",
   "execution_count": 103,
   "id": "26e40496",
   "metadata": {},
   "outputs": [],
   "source": [
    "prompt_type,file_names = qachain(faiss_db,\"How is Tesla's cash flow?\")"
   ]
  },
  {
   "cell_type": "code",
   "execution_count": 65,
   "id": "9b1317c5",
   "metadata": {},
   "outputs": [],
   "source": [
    "def process_file_names(file_names):\n",
    "    csv_filter = [file_name for file_name in file_names if '.csv' in file_name]\n",
    "    df = pd.read_csv(csv_filter[0])\n",
    "    df.rename(columns = {'Unnamed: 0':'Description'},inplace = True)\n",
    "    return df"
   ]
  },
  {
   "cell_type": "code",
   "execution_count": 108,
   "id": "13488822",
   "metadata": {},
   "outputs": [],
   "source": [
    "llm = Cohere(**cohere_params)\n",
    "llm = OpenAI(**open_ai_params)\n",
    "#llm = AI21(**ai21_params)"
   ]
  },
  {
   "cell_type": "markdown",
   "id": "b7b593fd",
   "metadata": {},
   "source": [
    "#### PineCone sampling"
   ]
  },
  {
   "cell_type": "code",
   "execution_count": 112,
   "id": "2127e3f0",
   "metadata": {},
   "outputs": [],
   "source": [
    "pinecone_key = '76b7e747-3862-4faa-9326-8d4c99ac36e9'\n",
    "pinecone_env = 'us-west1-gcp-free'"
   ]
  },
  {
   "cell_type": "code",
   "execution_count": 114,
   "id": "1302f265",
   "metadata": {},
   "outputs": [],
   "source": [
    "import pinecone \n",
    "\n",
    "# initialize pinecone\n",
    "pinecone.init(\n",
    "    api_key=pinecone_key,  # find at app.pinecone.io\n",
    "    environment=pinecone_env  # next to api key in console\n",
    ")"
   ]
  },
  {
   "cell_type": "code",
   "execution_count": 122,
   "id": "3e6ae61c",
   "metadata": {},
   "outputs": [],
   "source": [
    "index_name = \"financial-analysis\""
   ]
  },
  {
   "cell_type": "code",
   "execution_count": 6,
   "id": "772635b1",
   "metadata": {},
   "outputs": [],
   "source": [
    "csv_loader = DirectoryLoader('../ticker', glob=\"**/*.csv\", loader_cls=CSVLoader)\n",
    "text_loader = DirectoryLoader('../ticker', glob=\"**/*.txt\", loader_cls=TextLoader)\n",
    "co = CohereEmbeddings(cohere_api_key=cohere_params[\"cohere_api_key\"])\n",
    "oai = OpenAIEmbeddings(openai_api_key = yaml_data[\"LLMS\"]['OPENAI_API_KEY'])\n",
    "final_docs = []\n",
    "for loader in [csv_loader,text_loader]:\n",
    "    docs = loader.load()\n",
    "    final_docs.extend(docs)\n",
    "text_splitter = CharacterTextSplitter(chunk_size=1000, chunk_overlap=200)\n",
    "documents = text_splitter.split_documents(final_docs)"
   ]
  },
  {
   "cell_type": "code",
   "execution_count": 167,
   "id": "7a06e29e",
   "metadata": {},
   "outputs": [],
   "source": [
    "from langchain.vectorstores import FAISS"
   ]
  },
  {
   "cell_type": "code",
   "execution_count": 12,
   "id": "f2e23e68",
   "metadata": {},
   "outputs": [
    {
     "data": {
      "text/plain": [
       "109749"
      ]
     },
     "execution_count": 12,
     "metadata": {},
     "output_type": "execute_result"
    }
   ],
   "source": [
    "len(documents)"
   ]
  },
  {
   "cell_type": "code",
   "execution_count": null,
   "id": "cca21931",
   "metadata": {},
   "outputs": [],
   "source": [
    "docsearch = Pinecone.from_documents(documents, oai, index_name=index_name)"
   ]
  },
  {
   "cell_type": "code",
   "execution_count": null,
   "id": "2c5b50a8",
   "metadata": {},
   "outputs": [],
   "source": [
    "docsearch"
   ]
  },
  {
   "cell_type": "code",
   "execution_count": 129,
   "id": "7482b145",
   "metadata": {},
   "outputs": [],
   "source": [
    "\n",
    "query = \"What do you know about AAPL?\"\n",
    "docs = docsearch.similarity_search(query,filter = {'ticker':'TSLA'})"
   ]
  },
  {
   "cell_type": "code",
   "execution_count": null,
   "id": "2dbead56",
   "metadata": {},
   "outputs": [],
   "source": [
    "docs.similarity_seach"
   ]
  },
  {
   "cell_type": "code",
   "execution_count": 131,
   "id": "086364d0",
   "metadata": {},
   "outputs": [],
   "source": [
    "docs = Pinecone.from_existing_index(index_name=index_name, embedding=oai)"
   ]
  },
  {
   "cell_type": "code",
   "execution_count": 13,
   "id": "c239470c",
   "metadata": {},
   "outputs": [],
   "source": [
    "llm = AI21(**ai21_params)"
   ]
  },
  {
   "cell_type": "code",
   "execution_count": 16,
   "id": "ebb8f011",
   "metadata": {},
   "outputs": [
    {
     "name": "stdout",
     "output_type": "stream",
     "text": [
      "\n",
      "[object Object]\n"
     ]
    }
   ],
   "source": [
    "print(llm('How are you doing?'))"
   ]
  },
  {
   "cell_type": "code",
   "execution_count": null,
   "id": "e2b7df95",
   "metadata": {},
   "outputs": [],
   "source": []
  }
 ],
 "metadata": {
  "kernelspec": {
   "display_name": "firstEnv",
   "language": "python",
   "name": "firstenv"
  },
  "language_info": {
   "codemirror_mode": {
    "name": "ipython",
    "version": 3
   },
   "file_extension": ".py",
   "mimetype": "text/x-python",
   "name": "python",
   "nbconvert_exporter": "python",
   "pygments_lexer": "ipython3",
   "version": "3.9.15"
  }
 },
 "nbformat": 4,
 "nbformat_minor": 5
}
