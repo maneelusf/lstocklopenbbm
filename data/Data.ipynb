{
 "cells": [
  {
   "cell_type": "code",
   "execution_count": 1,
   "id": "50aa0255",
   "metadata": {},
   "outputs": [
    {
     "data": {
      "text/html": [
       "<pre style=\"white-space:pre;overflow-x:auto;line-height:normal;font-family:Menlo,'DejaVu Sans Mono',consolas,'Courier New',monospace\"><span style=\"color: #808000; text-decoration-color: #808000\">Forecasting Toolkit is disabled. To use the Forecasting features please install the toolkit following the instructions here: https://docs.openbb.co/sdk/quickstart/installation/</span>\n",
       "\n",
       "</pre>\n"
      ],
      "text/plain": [
       "\u001b[33mForecasting Toolkit is disabled. To use the Forecasting features please install the toolkit following the instructions here: https://docs.openbb.co/sdk/quickstart/installation/\u001b[0m\n",
       "\n"
      ]
     },
     "metadata": {},
     "output_type": "display_data"
    },
    {
     "data": {
      "text/html": [
       "<pre style=\"white-space:pre;overflow-x:auto;line-height:normal;font-family:Menlo,'DejaVu Sans Mono',consolas,'Courier New',monospace\"><span style=\"color: #808000; text-decoration-color: #808000\">Portfolio Optimization Toolkit is disabled. To use the Optimization features please install the toolkit following the instructions here: https://docs.openbb.co/sdk/quickstart/installation/</span>\n",
       "\n",
       "</pre>\n"
      ],
      "text/plain": [
       "\u001b[33mPortfolio Optimization Toolkit is disabled. To use the Optimization features please install the toolkit following the instructions here: https://docs.openbb.co/sdk/quickstart/installation/\u001b[0m\n",
       "\n"
      ]
     },
     "metadata": {},
     "output_type": "display_data"
    },
    {
     "name": "stderr",
     "output_type": "stream",
     "text": [
      "Saving log to /Users/maneelreddy/Downloads/Entreprenuer/lstocklopenbbm/data/logs\n",
      "\n"
     ]
    }
   ],
   "source": [
    "import yaml\n",
    "from datacreator import StockData,EconomyData,FewShot_Sentiment_Generator\n",
    "from openbb_terminal.sdk import openbb\n",
    "from langchain.embeddings import OpenAIEmbeddings\n",
    "from scipy.spatial import distance\n",
    "from serpapi import GoogleSearch\n",
    "import logging\n",
    "logging.disable()\n",
    "# Open the YAML file and load its contents into a Python object\n",
    "with open('apis.yaml', 'r') as file:\n",
    "    yaml_data = yaml.load(file, Loader=yaml.FullLoader)\n",
    "from langchain.vectorstores import FAISS\n",
    "# # Convert the YAML data to a dictionary\n",
    "data_dict = dict(yaml_data)\n",
    "openbb.keys.av(key = data_dict['OPENBB']['ALPHA_VANTAGE_KEY'], persist = True)\n",
    "openbb.keys.fmp(key = data_dict['OPENBB']['FINANCIALMODELLING_AND_PREP_KEY'],persist = True)\n",
    "openbb.keys.polygon(key = data_dict['OPENBB']['POLYGON_KEY'],persist = True)\n",
    "openbb.keys.finnhub(key = data_dict['OPENBB']['FINNHUB_KEY'],persist = True)\n",
    "openbb.keys.fred(key = data_dict['OPENBB']['FRED_KEY'],persist = True)\n",
    "SERP_API_KEY = data_dict['GOOGLESEARCH']"
   ]
  },
  {
   "cell_type": "code",
   "execution_count": 2,
   "id": "24ed29f4",
   "metadata": {},
   "outputs": [],
   "source": [
    "import time\n",
    "for stock in ['AAPL','TSLA','GOOG']:\n",
    "    stock_data = StockData(stock)\n",
    "    stock_data.initialize_folders()\n",
    "    stock_data.ratio_file()\n",
    "    stock_data.cash_file()\n",
    "    stock_data.balance_file()\n",
    "    stock_data.est_file()\n",
    "    stock_data.fraud_file()\n",
    "    stock_data.income_file()\n",
    "    stock_data.analysis_file()\n",
    "    stock_data.news_file()\n",
    "    time.sleep(1)"
   ]
  },
  {
   "cell_type": "code",
   "execution_count": null,
   "id": "7a4e8bd5",
   "metadata": {},
   "outputs": [],
   "source": [
    "df = openbb.stocks.fa.est('AAPL')[0]"
   ]
  },
  {
   "cell_type": "code",
   "execution_count": null,
   "id": "70201227",
   "metadata": {},
   "outputs": [],
   "source": [
    "df = openbb.stocks.fa.income('AAPL')"
   ]
  },
  {
   "cell_type": "code",
   "execution_count": null,
   "id": "007cc458",
   "metadata": {},
   "outputs": [],
   "source": [
    "with open('sample.csv','r') as f:\n",
    "    x = f.read()"
   ]
  },
  {
   "cell_type": "code",
   "execution_count": null,
   "id": "4caf8448",
   "metadata": {},
   "outputs": [],
   "source": [
    "print(x)"
   ]
  },
  {
   "cell_type": "code",
   "execution_count": null,
   "id": "09eed749",
   "metadata": {},
   "outputs": [],
   "source": [
    "import yaml\n",
    "from datacreator import StockData, EconomyData\n",
    "from openbb_terminal.sdk import openbb\n",
    "\n",
    "\n",
    "# Open the YAML file and load its contents into a Python object\n",
    "with open(\"apis.yaml\", \"r\") as file:\n",
    "    yaml_data = yaml.load(file, Loader=yaml.FullLoader)\n",
    "\n",
    "# Convert the YAML data to a dictionary\n",
    "data_dict = dict(yaml_data)\n",
    "openbb.keys.av(key=data_dict[\"OPENBB\"][\"ALPHA_VANTAGE_KEY\"], persist=True)\n",
    "openbb.keys.fmp(\n",
    "    key=data_dict[\"OPENBB\"][\"FINANCIALMODELLING_AND_PREP_KEY\"], persist=True\n",
    ")\n",
    "openbb.keys.polygon(key=data_dict[\"OPENBB\"][\"POLYGON_KEY\"], persist=True)\n",
    "openbb.keys.finnhub(key=data_dict[\"OPENBB\"][\"FINNHUB_KEY\"], persist=True)\n",
    "openbb.keys.fred(key=data_dict[\"OPENBB\"][\"FRED_KEY\"], persist=True)\n",
    "open_ai_params = {\n",
    "    \"max_tokens\": 512,\n",
    "    \"openai_api_key\": yaml_data[\"LLMS\"][\"OPENAI_API_KEY\"],\n",
    "}\n",
    "stocks = yaml_data['STOCKS']\n",
    "\n",
    "# for stock in stocks:\n",
    "#     stock_data = StockData(stock)\n",
    "#     stock_data.initialize_folders()\n",
    "#     stock_data.analysis_file()\n",
    "#     stock_data.ratio_file()\n",
    "#     stock_data.cash_file()\n",
    "#     stock_data.est_file()\n",
    "#     stock_data.fraud_file()\n",
    "#     stock_data.income_file()\n",
    "#     stock_data.balance_file()\n",
    "#     stock_data.news_file()\n"
   ]
  },
  {
   "cell_type": "code",
   "execution_count": null,
   "id": "cb32ae94",
   "metadata": {},
   "outputs": [],
   "source": [
    "class Sentiment_Generator:\n",
    "    def __init__(self,embeddings):\n",
    "        self.embeddings = embeddings\n",
    "    \n",
    "    def collect_news_files(self):\n",
    "        main_file = []\n",
    "        for stock in os.listdir('../ticker'):\n",
    "            try:\n",
    "                df = pd.read_csv(f'../ticker/{stock}/news/c_news.csv')\n",
    "                df.insert(0,'ticker',stock)\n",
    "                df = df[['ticker','headline','datetime']]\n",
    "            except:\n",
    "                pass\n",
    "            main_file.append(df)\n",
    "        self.document_file = pd.concat(main_file)\n",
    "    \n",
    "    def get_scores(self):\n",
    "        docs = list(self.document_file['headline'])\n",
    "        classifications = ['Strongly Positive','Positive','Neutral','Negative','Strongly Negative']\n",
    "        ## Create a faiss vector database\n",
    "        #import pdb;pdb.set_trace()\n",
    "        faiss_classifications = FAISS.from_texts(classifications,self.embeddings)\n",
    "        self.similarity_scores = []\n",
    "        for x in docs:\n",
    "            #import pdb;pdb.set_trace()\n",
    "            self.similarity_scores.append(faiss_classifications.similarity_search_with_score(x,k = 1)[0][0].page_content)\n",
    "        self.document_file['similarity'] = self.similarity_scores\n",
    "        \n",
    "    def save_scores(self):\n",
    "        self.document_file.to_csv('output/sentiment_scores.csv')\n",
    "        "
   ]
  },
  {
   "cell_type": "code",
   "execution_count": null,
   "id": "3a017bd4",
   "metadata": {},
   "outputs": [],
   "source": [
    "embeddings = OpenAIEmbeddings(openai_api_key = yaml_data[\"LLMS\"][\"OPENAI_API_KEY\"])\n",
    "sentiment_generation = Sentiment_Generator(embeddings)\n",
    "sentiment_generation.collect_news_files()\n",
    "sentiment_generation.get_scores()"
   ]
  },
  {
   "cell_type": "code",
   "execution_count": null,
   "id": "53b337bc",
   "metadata": {},
   "outputs": [],
   "source": [
    "sentiment_generation.to_csv('news.csv')"
   ]
  },
  {
   "cell_type": "code",
   "execution_count": null,
   "id": "9a4944ec",
   "metadata": {},
   "outputs": [],
   "source": [
    "sentiment_generation.document_file.to_csv('news.csv')"
   ]
  },
  {
   "cell_type": "code",
   "execution_count": null,
   "id": "880e11ce",
   "metadata": {},
   "outputs": [],
   "source": [
    "sentiment_generation.document_file.to_csv('sentiment_scores.csv')"
   ]
  },
  {
   "cell_type": "code",
   "execution_count": null,
   "id": "1b49ba31",
   "metadata": {},
   "outputs": [],
   "source": [
    "sentiment_generation.document_file.similarity.head()"
   ]
  }
 ],
 "metadata": {
  "kernelspec": {
   "display_name": "firstEnv",
   "language": "python",
   "name": "firstenv"
  },
  "language_info": {
   "codemirror_mode": {
    "name": "ipython",
    "version": 3
   },
   "file_extension": ".py",
   "mimetype": "text/x-python",
   "name": "python",
   "nbconvert_exporter": "python",
   "pygments_lexer": "ipython3",
   "version": "3.9.15"
  }
 },
 "nbformat": 4,
 "nbformat_minor": 5
}
