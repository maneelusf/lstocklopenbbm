{
 "cells": [
  {
   "cell_type": "code",
   "execution_count": 1,
   "id": "50aa0255",
   "metadata": {},
   "outputs": [
    {
     "data": {
      "text/html": [
       "<pre style=\"white-space:pre;overflow-x:auto;line-height:normal;font-family:Menlo,'DejaVu Sans Mono',consolas,'Courier New',monospace\"><span style=\"color: #808000; text-decoration-color: #808000\">Forecasting Toolkit is disabled. To use the Forecasting features please install the toolkit following the instructions here: https://docs.openbb.co/sdk/quickstart/installation/</span>\n",
       "\n",
       "</pre>\n"
      ],
      "text/plain": [
       "\u001b[33mForecasting Toolkit is disabled. To use the Forecasting features please install the toolkit following the instructions here: https://docs.openbb.co/sdk/quickstart/installation/\u001b[0m\n",
       "\n"
      ]
     },
     "metadata": {},
     "output_type": "display_data"
    },
    {
     "data": {
      "text/html": [
       "<pre style=\"white-space:pre;overflow-x:auto;line-height:normal;font-family:Menlo,'DejaVu Sans Mono',consolas,'Courier New',monospace\"><span style=\"color: #808000; text-decoration-color: #808000\">Portfolio Optimization Toolkit is disabled. To use the Optimization features please install the toolkit following the instructions here: https://docs.openbb.co/sdk/quickstart/installation/</span>\n",
       "\n",
       "</pre>\n"
      ],
      "text/plain": [
       "\u001b[33mPortfolio Optimization Toolkit is disabled. To use the Optimization features please install the toolkit following the instructions here: https://docs.openbb.co/sdk/quickstart/installation/\u001b[0m\n",
       "\n"
      ]
     },
     "metadata": {},
     "output_type": "display_data"
    }
   ],
   "source": [
    "import yaml\n",
    "from datacreator import StockData,EconomyData\n",
    "from openbb_terminal.sdk import openbb\n",
    "\n",
    "from serpapi import GoogleSearch\n",
    "# Open the YAML file and load its contents into a Python object\n",
    "with open('apis.yaml', 'r') as file:\n",
    "    yaml_data = yaml.load(file, Loader=yaml.FullLoader)\n",
    "\n",
    "# # Convert the YAML data to a dictionary\n",
    "data_dict = dict(yaml_data)\n",
    "openbb.keys.av(key = data_dict['OPENBB']['ALPHA_VANTAGE_KEY'], persist = True)\n",
    "openbb.keys.fmp(key = data_dict['OPENBB']['FINANCIALMODELLING_AND_PREP_KEY'],persist = True)\n",
    "openbb.keys.polygon(key = data_dict['OPENBB']['POLYGON_KEY'],persist = True)\n",
    "openbb.keys.finnhub(key = data_dict['OPENBB']['FINNHUB_KEY'],persist = True)\n",
    "openbb.keys.fred(key = data_dict['OPENBB']['FRED_KEY'],persist = True)\n",
    "SERP_API_KEY = data_dict['GOOGLESEARCH']"
   ]
  },
  {
   "cell_type": "code",
   "execution_count": 3,
   "id": "891c9b35",
   "metadata": {},
   "outputs": [],
   "source": [
    "stocks = ['BRK-B']"
   ]
  },
  {
   "cell_type": "code",
   "execution_count": 8,
   "id": "24ed29f4",
   "metadata": {},
   "outputs": [
    {
     "name": "stdout",
     "output_type": "stream",
     "text": [
      "> \u001b[0;32m/Users/maneelreddy/Downloads/Entreprenuer/lstocklopenbbm/data/datacreator.py\u001b[0m(134)\u001b[0;36mnews_file\u001b[0;34m()\u001b[0m\n",
      "\u001b[0;32m    132 \u001b[0;31m        \u001b[0;32mif\u001b[0m \u001b[0mself\u001b[0m\u001b[0;34m.\u001b[0m\u001b[0manalysis\u001b[0m\u001b[0;34m:\u001b[0m\u001b[0;34m\u001b[0m\u001b[0;34m\u001b[0m\u001b[0m\n",
      "\u001b[0m\u001b[0;32m    133 \u001b[0;31m            \u001b[0;32mtry\u001b[0m\u001b[0;34m:\u001b[0m\u001b[0;34m\u001b[0m\u001b[0;34m\u001b[0m\u001b[0m\n",
      "\u001b[0m\u001b[0;32m--> 134 \u001b[0;31m                \u001b[0mdf\u001b[0m \u001b[0;34m=\u001b[0m \u001b[0mopenbb\u001b[0m\u001b[0;34m.\u001b[0m\u001b[0mstocks\u001b[0m\u001b[0;34m.\u001b[0m\u001b[0mfa\u001b[0m\u001b[0;34m.\u001b[0m\u001b[0manalysis\u001b[0m\u001b[0;34m(\u001b[0m\u001b[0mself\u001b[0m\u001b[0;34m.\u001b[0m\u001b[0mticker\u001b[0m\u001b[0;34m)\u001b[0m\u001b[0;34m\u001b[0m\u001b[0;34m\u001b[0m\u001b[0m\n",
      "\u001b[0m\u001b[0;32m    135 \u001b[0;31m                \u001b[0mtext\u001b[0m \u001b[0;34m=\u001b[0m \u001b[0;34m\"\"\u001b[0m\u001b[0;34m.\u001b[0m\u001b[0mjoin\u001b[0m\u001b[0;34m(\u001b[0m\u001b[0mlist\u001b[0m\u001b[0;34m(\u001b[0m\u001b[0mdf\u001b[0m\u001b[0;34m[\u001b[0m\u001b[0;34m\"Sentence\"\u001b[0m\u001b[0;34m]\u001b[0m\u001b[0;34m)\u001b[0m\u001b[0;34m)\u001b[0m\u001b[0;34m\u001b[0m\u001b[0;34m\u001b[0m\u001b[0m\n",
      "\u001b[0m\u001b[0;32m    136 \u001b[0;31m                \u001b[0mself\u001b[0m\u001b[0;34m.\u001b[0m\u001b[0mcreate_file\u001b[0m\u001b[0;34m(\u001b[0m\u001b[0mtext\u001b[0m\u001b[0;34m,\u001b[0m \u001b[0;34m\"fa\"\u001b[0m\u001b[0;34m,\u001b[0m \u001b[0;34m\"analysis_sec\"\u001b[0m\u001b[0;34m,\u001b[0m \u001b[0;34m\".txt\"\u001b[0m\u001b[0;34m)\u001b[0m\u001b[0;34m\u001b[0m\u001b[0;34m\u001b[0m\u001b[0m\n",
      "\u001b[0m\n",
      "ipdb> c\n",
      "> \u001b[0;32m/Users/maneelreddy/Downloads/Entreprenuer/lstocklopenbbm/data/datacreator.py\u001b[0m(134)\u001b[0;36mnews_file\u001b[0;34m()\u001b[0m\n",
      "\u001b[0;32m    132 \u001b[0;31m        \u001b[0;32mif\u001b[0m \u001b[0mself\u001b[0m\u001b[0;34m.\u001b[0m\u001b[0manalysis\u001b[0m\u001b[0;34m:\u001b[0m\u001b[0;34m\u001b[0m\u001b[0;34m\u001b[0m\u001b[0m\n",
      "\u001b[0m\u001b[0;32m    133 \u001b[0;31m            \u001b[0;32mtry\u001b[0m\u001b[0;34m:\u001b[0m\u001b[0;34m\u001b[0m\u001b[0;34m\u001b[0m\u001b[0m\n",
      "\u001b[0m\u001b[0;32m--> 134 \u001b[0;31m                \u001b[0mdf\u001b[0m \u001b[0;34m=\u001b[0m \u001b[0mopenbb\u001b[0m\u001b[0;34m.\u001b[0m\u001b[0mstocks\u001b[0m\u001b[0;34m.\u001b[0m\u001b[0mfa\u001b[0m\u001b[0;34m.\u001b[0m\u001b[0manalysis\u001b[0m\u001b[0;34m(\u001b[0m\u001b[0mself\u001b[0m\u001b[0;34m.\u001b[0m\u001b[0mticker\u001b[0m\u001b[0;34m)\u001b[0m\u001b[0;34m\u001b[0m\u001b[0;34m\u001b[0m\u001b[0m\n",
      "\u001b[0m\u001b[0;32m    135 \u001b[0;31m                \u001b[0mtext\u001b[0m \u001b[0;34m=\u001b[0m \u001b[0;34m\"\"\u001b[0m\u001b[0;34m.\u001b[0m\u001b[0mjoin\u001b[0m\u001b[0;34m(\u001b[0m\u001b[0mlist\u001b[0m\u001b[0;34m(\u001b[0m\u001b[0mdf\u001b[0m\u001b[0;34m[\u001b[0m\u001b[0;34m\"Sentence\"\u001b[0m\u001b[0;34m]\u001b[0m\u001b[0;34m)\u001b[0m\u001b[0;34m)\u001b[0m\u001b[0;34m\u001b[0m\u001b[0;34m\u001b[0m\u001b[0m\n",
      "\u001b[0m\u001b[0;32m    136 \u001b[0;31m                \u001b[0mself\u001b[0m\u001b[0;34m.\u001b[0m\u001b[0mcreate_file\u001b[0m\u001b[0;34m(\u001b[0m\u001b[0mtext\u001b[0m\u001b[0;34m,\u001b[0m \u001b[0;34m\"fa\"\u001b[0m\u001b[0;34m,\u001b[0m \u001b[0;34m\"analysis_sec\"\u001b[0m\u001b[0;34m,\u001b[0m \u001b[0;34m\".txt\"\u001b[0m\u001b[0;34m)\u001b[0m\u001b[0;34m\u001b[0m\u001b[0;34m\u001b[0m\u001b[0m\n",
      "\u001b[0m\n",
      "ipdb> c\n",
      "> \u001b[0;32m/Users/maneelreddy/Downloads/Entreprenuer/lstocklopenbbm/data/datacreator.py\u001b[0m(134)\u001b[0;36mnews_file\u001b[0;34m()\u001b[0m\n",
      "\u001b[0;32m    132 \u001b[0;31m        \u001b[0;32mif\u001b[0m \u001b[0mself\u001b[0m\u001b[0;34m.\u001b[0m\u001b[0manalysis\u001b[0m\u001b[0;34m:\u001b[0m\u001b[0;34m\u001b[0m\u001b[0;34m\u001b[0m\u001b[0m\n",
      "\u001b[0m\u001b[0;32m    133 \u001b[0;31m            \u001b[0;32mtry\u001b[0m\u001b[0;34m:\u001b[0m\u001b[0;34m\u001b[0m\u001b[0;34m\u001b[0m\u001b[0m\n",
      "\u001b[0m\u001b[0;32m--> 134 \u001b[0;31m                \u001b[0mdf\u001b[0m \u001b[0;34m=\u001b[0m \u001b[0mopenbb\u001b[0m\u001b[0;34m.\u001b[0m\u001b[0mstocks\u001b[0m\u001b[0;34m.\u001b[0m\u001b[0mfa\u001b[0m\u001b[0;34m.\u001b[0m\u001b[0manalysis\u001b[0m\u001b[0;34m(\u001b[0m\u001b[0mself\u001b[0m\u001b[0;34m.\u001b[0m\u001b[0mticker\u001b[0m\u001b[0;34m)\u001b[0m\u001b[0;34m\u001b[0m\u001b[0;34m\u001b[0m\u001b[0m\n",
      "\u001b[0m\u001b[0;32m    135 \u001b[0;31m                \u001b[0mtext\u001b[0m \u001b[0;34m=\u001b[0m \u001b[0;34m\"\"\u001b[0m\u001b[0;34m.\u001b[0m\u001b[0mjoin\u001b[0m\u001b[0;34m(\u001b[0m\u001b[0mlist\u001b[0m\u001b[0;34m(\u001b[0m\u001b[0mdf\u001b[0m\u001b[0;34m[\u001b[0m\u001b[0;34m\"Sentence\"\u001b[0m\u001b[0;34m]\u001b[0m\u001b[0;34m)\u001b[0m\u001b[0;34m)\u001b[0m\u001b[0;34m\u001b[0m\u001b[0;34m\u001b[0m\u001b[0m\n",
      "\u001b[0m\u001b[0;32m    136 \u001b[0;31m                \u001b[0mself\u001b[0m\u001b[0;34m.\u001b[0m\u001b[0mcreate_file\u001b[0m\u001b[0;34m(\u001b[0m\u001b[0mtext\u001b[0m\u001b[0;34m,\u001b[0m \u001b[0;34m\"fa\"\u001b[0m\u001b[0;34m,\u001b[0m \u001b[0;34m\"analysis_sec\"\u001b[0m\u001b[0;34m,\u001b[0m \u001b[0;34m\".txt\"\u001b[0m\u001b[0;34m)\u001b[0m\u001b[0;34m\u001b[0m\u001b[0;34m\u001b[0m\u001b[0m\n",
      "\u001b[0m\n",
      "ipdb> c\n"
     ]
    }
   ],
   "source": [
    "import time\n",
    "for stock in ['AAPL','TSLA','GOOG']:\n",
    "    stock_data = StockData(stock)\n",
    "    stock_data.initialize_folders()\n",
    "    stock_data.ratio_file()\n",
    "    stock_data.cash_file()\n",
    "    stock_data.balance_file()\n",
    "    stock_data.est_file()\n",
    "    stock_data.fraud_file()\n",
    "    stock_data.income_file()\n",
    "    stock_data.analysis_file()\n",
    "    stock_data.news_file()\n",
    "    time.sleep(60)"
   ]
  },
  {
   "cell_type": "code",
   "execution_count": 7,
   "id": "459d2d5d",
   "metadata": {},
   "outputs": [],
   "source": [
    "x = StockData('AAPL')\n",
    "x.initialize_folders()\n",
    "x.ratio_file()\n"
   ]
  },
  {
   "cell_type": "code",
   "execution_count": null,
   "id": "ee20554f",
   "metadata": {},
   "outputs": [],
   "source": [
    "stocks = ['BRK.A']\n",
    "for stock in stocks:\n",
    "    stock_data = StockData(stock)\n",
    "    stock_data.news_file()"
   ]
  },
  {
   "cell_type": "code",
   "execution_count": null,
   "id": "18b53016",
   "metadata": {},
   "outputs": [],
   "source": [
    "openbb.stocks.ba.queries()"
   ]
  },
  {
   "cell_type": "code",
   "execution_count": null,
   "id": "eb87d927",
   "metadata": {},
   "outputs": [],
   "source": [
    "import pandas as pd\n",
    "stock_summary = pd.read_json('https://www.sec.gov/files/company_tickers.json').T"
   ]
  },
  {
   "cell_type": "code",
   "execution_count": null,
   "id": "ea54725c",
   "metadata": {},
   "outputs": [],
   "source": [
    "stock_summary"
   ]
  },
  {
   "cell_type": "code",
   "execution_count": null,
   "id": "07015905",
   "metadata": {},
   "outputs": [],
   "source": [
    "stock_data = StockData('BRK-B')"
   ]
  },
  {
   "cell_type": "code",
   "execution_count": null,
   "id": "98392800",
   "metadata": {},
   "outputs": [],
   "source": [
    "stock_data.news_file()"
   ]
  },
  {
   "cell_type": "code",
   "execution_count": null,
   "id": "b9eae8f1",
   "metadata": {},
   "outputs": [],
   "source": [
    "end_date = datetime.today().strftime('%Y-%m-%d')\n",
    "start_date = (datetime.today() - relativedelta(months = 2)).strftime('%Y-%m-%d')\n",
    "df = openbb.stocks.ba.cnews('BRK-B',start_date = start_date,end_date = end_date)\n",
    "# df = pd.DataFrame(df)[['related','datetime','headline','summary']]\n",
    "# df['datetime'] = df['datetime'].apply(lambda x:datetime.fromtimestamp(x))"
   ]
  },
  {
   "cell_type": "code",
   "execution_count": null,
   "id": "ce37bcda",
   "metadata": {},
   "outputs": [],
   "source": [
    "from datetime import datetime\n",
    "import pandas as pd\n",
    "from dateutil.relativedelta import relativedelta"
   ]
  },
  {
   "cell_type": "code",
   "execution_count": null,
   "id": "33dbd65e",
   "metadata": {},
   "outputs": [],
   "source": [
    "openbb.stocks.ba.cnews('BRK.A')"
   ]
  },
  {
   "cell_type": "code",
   "execution_count": null,
   "id": "dad6430f",
   "metadata": {},
   "outputs": [],
   "source": [
    "stock_summary = pd.read_json('https://www.sec.gov/files/company_tickers.json').T\n",
    "stock_summary = stock_summary[['title','ticker']]\n",
    "stock_summary.columns = ['Company','Ticker']"
   ]
  },
  {
   "cell_type": "code",
   "execution_count": null,
   "id": "5603915d",
   "metadata": {},
   "outputs": [],
   "source": [
    "stock_summary.to_csv('stocks.csv')"
   ]
  },
  {
   "cell_type": "code",
   "execution_count": null,
   "id": "931d342f",
   "metadata": {},
   "outputs": [],
   "source": [
    "stock_summary"
   ]
  },
  {
   "cell_type": "code",
   "execution_count": null,
   "id": "50b1f76b",
   "metadata": {},
   "outputs": [],
   "source": [
    "def "
   ]
  }
 ],
 "metadata": {
  "kernelspec": {
   "display_name": "firstEnv",
   "language": "python",
   "name": "firstenv"
  },
  "language_info": {
   "codemirror_mode": {
    "name": "ipython",
    "version": 3
   },
   "file_extension": ".py",
   "mimetype": "text/x-python",
   "name": "python",
   "nbconvert_exporter": "python",
   "pygments_lexer": "ipython3",
   "version": "3.9.15"
  }
 },
 "nbformat": 4,
 "nbformat_minor": 5
}
